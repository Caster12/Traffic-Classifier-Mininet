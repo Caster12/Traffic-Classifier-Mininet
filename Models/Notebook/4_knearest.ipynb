{
 "cells": [
  {
   "cell_type": "code",
   "metadata": {
    "tags": [],
    "deepnote_to_be_reexecuted": false,
    "source_hash": "4c5a392a",
    "execution_start": 1639606916658,
    "execution_millis": 19369,
    "cell_id": "00000-0f3d0911-5848-4f3d-9bff-4c8a2a054e9f",
    "deepnote_cell_type": "code"
   },
   "source": "!pip install numpy\n!pip install pandas\n!pip install matplotlib\n!pip install seaborn\n!pip install sklearn",
   "execution_count": null,
   "outputs": [
    {
     "name": "stdout",
     "text": "Requirement already satisfied: numpy in /shared-libs/python3.7/py/lib/python3.7/site-packages (1.19.5)\n\u001b[33mWARNING: You are using pip version 20.1.1; however, version 21.3.1 is available.\nYou should consider upgrading via the '/root/venv/bin/python -m pip install --upgrade pip' command.\u001b[0m\nRequirement already satisfied: pandas in /shared-libs/python3.7/py/lib/python3.7/site-packages (1.2.5)\nRequirement already satisfied: pytz>=2017.3 in /shared-libs/python3.7/py/lib/python3.7/site-packages (from pandas) (2021.3)\nRequirement already satisfied: python-dateutil>=2.7.3 in /shared-libs/python3.7/py-core/lib/python3.7/site-packages (from pandas) (2.8.2)\nRequirement already satisfied: numpy>=1.16.5 in /shared-libs/python3.7/py/lib/python3.7/site-packages (from pandas) (1.19.5)\nRequirement already satisfied: six>=1.5 in /shared-libs/python3.7/py-core/lib/python3.7/site-packages (from python-dateutil>=2.7.3->pandas) (1.16.0)\n\u001b[33mWARNING: You are using pip version 20.1.1; however, version 21.3.1 is available.\nYou should consider upgrading via the '/root/venv/bin/python -m pip install --upgrade pip' command.\u001b[0m\nRequirement already satisfied: matplotlib in /shared-libs/python3.7/py/lib/python3.7/site-packages (3.5.1)\nRequirement already satisfied: pillow>=6.2.0 in /shared-libs/python3.7/py/lib/python3.7/site-packages (from matplotlib) (8.4.0)\nRequirement already satisfied: cycler>=0.10 in /shared-libs/python3.7/py/lib/python3.7/site-packages (from matplotlib) (0.11.0)\nRequirement already satisfied: packaging>=20.0 in /shared-libs/python3.7/py-core/lib/python3.7/site-packages (from matplotlib) (21.3)\nRequirement already satisfied: python-dateutil>=2.7 in /shared-libs/python3.7/py-core/lib/python3.7/site-packages (from matplotlib) (2.8.2)\nRequirement already satisfied: pyparsing>=2.2.1 in /shared-libs/python3.7/py-core/lib/python3.7/site-packages (from matplotlib) (3.0.6)\nRequirement already satisfied: fonttools>=4.22.0 in /shared-libs/python3.7/py/lib/python3.7/site-packages (from matplotlib) (4.28.3)\nRequirement already satisfied: numpy>=1.17 in /shared-libs/python3.7/py/lib/python3.7/site-packages (from matplotlib) (1.19.5)\nRequirement already satisfied: kiwisolver>=1.0.1 in /shared-libs/python3.7/py/lib/python3.7/site-packages (from matplotlib) (1.3.2)\nRequirement already satisfied: six>=1.5 in /shared-libs/python3.7/py-core/lib/python3.7/site-packages (from python-dateutil>=2.7->matplotlib) (1.16.0)\n\u001b[33mWARNING: You are using pip version 20.1.1; however, version 21.3.1 is available.\nYou should consider upgrading via the '/root/venv/bin/python -m pip install --upgrade pip' command.\u001b[0m\nRequirement already satisfied: seaborn in /shared-libs/python3.7/py/lib/python3.7/site-packages (0.11.2)\nRequirement already satisfied: pandas>=0.23 in /shared-libs/python3.7/py/lib/python3.7/site-packages (from seaborn) (1.2.5)\nRequirement already satisfied: scipy>=1.0 in /shared-libs/python3.7/py/lib/python3.7/site-packages (from seaborn) (1.7.3)\nRequirement already satisfied: numpy>=1.15 in /shared-libs/python3.7/py/lib/python3.7/site-packages (from seaborn) (1.19.5)\nRequirement already satisfied: matplotlib>=2.2 in /shared-libs/python3.7/py/lib/python3.7/site-packages (from seaborn) (3.5.1)\nRequirement already satisfied: python-dateutil>=2.7.3 in /shared-libs/python3.7/py-core/lib/python3.7/site-packages (from pandas>=0.23->seaborn) (2.8.2)\nRequirement already satisfied: pytz>=2017.3 in /shared-libs/python3.7/py/lib/python3.7/site-packages (from pandas>=0.23->seaborn) (2021.3)\nRequirement already satisfied: pillow>=6.2.0 in /shared-libs/python3.7/py/lib/python3.7/site-packages (from matplotlib>=2.2->seaborn) (8.4.0)\nRequirement already satisfied: cycler>=0.10 in /shared-libs/python3.7/py/lib/python3.7/site-packages (from matplotlib>=2.2->seaborn) (0.11.0)\nRequirement already satisfied: fonttools>=4.22.0 in /shared-libs/python3.7/py/lib/python3.7/site-packages (from matplotlib>=2.2->seaborn) (4.28.3)\nRequirement already satisfied: pyparsing>=2.2.1 in /shared-libs/python3.7/py-core/lib/python3.7/site-packages (from matplotlib>=2.2->seaborn) (3.0.6)\nRequirement already satisfied: packaging>=20.0 in /shared-libs/python3.7/py-core/lib/python3.7/site-packages (from matplotlib>=2.2->seaborn) (21.3)\nRequirement already satisfied: kiwisolver>=1.0.1 in /shared-libs/python3.7/py/lib/python3.7/site-packages (from matplotlib>=2.2->seaborn) (1.3.2)\nRequirement already satisfied: six>=1.5 in /shared-libs/python3.7/py-core/lib/python3.7/site-packages (from python-dateutil>=2.7.3->pandas>=0.23->seaborn) (1.16.0)\n\u001b[33mWARNING: You are using pip version 20.1.1; however, version 21.3.1 is available.\nYou should consider upgrading via the '/root/venv/bin/python -m pip install --upgrade pip' command.\u001b[0m\nRequirement already satisfied: sklearn in /root/venv/lib/python3.7/site-packages (0.0)\nRequirement already satisfied: scikit-learn in /shared-libs/python3.7/py/lib/python3.7/site-packages (from sklearn) (1.0.1)\nRequirement already satisfied: scipy>=1.1.0 in /shared-libs/python3.7/py/lib/python3.7/site-packages (from scikit-learn->sklearn) (1.7.3)\nRequirement already satisfied: joblib>=0.11 in /shared-libs/python3.7/py/lib/python3.7/site-packages (from scikit-learn->sklearn) (1.1.0)\nRequirement already satisfied: numpy>=1.14.6 in /shared-libs/python3.7/py/lib/python3.7/site-packages (from scikit-learn->sklearn) (1.19.5)\nRequirement already satisfied: threadpoolctl>=2.0.0 in /shared-libs/python3.7/py/lib/python3.7/site-packages (from scikit-learn->sklearn) (3.0.0)\n\u001b[33mWARNING: You are using pip version 20.1.1; however, version 21.3.1 is available.\nYou should consider upgrading via the '/root/venv/bin/python -m pip install --upgrade pip' command.\u001b[0m\n",
     "output_type": "stream",
     "data": {}
    }
   ]
  },
  {
   "cell_type": "code",
   "metadata": {
    "tags": [],
    "deepnote_to_be_reexecuted": false,
    "source_hash": "1b7f72d",
    "execution_start": 1639606936036,
    "execution_millis": 1975,
    "cell_id": "00001-f6bb1ae2-0a11-4795-a528-4e35237a2a5c",
    "deepnote_cell_type": "code"
   },
   "source": "import numpy as np\nimport pandas as pd\nfrom scipy import stats\nimport pickle\n\n# Plotting libraries\nimport seaborn as sns\nimport matplotlib.pyplot as plt\n\n# Sklearn libraries\nfrom sklearn.preprocessing import StandardScaler\nfrom sklearn.preprocessing import label_binarize\nfrom sklearn.model_selection import train_test_split\nfrom sklearn.decomposition import PCA\nfrom sklearn.linear_model import LogisticRegression\nfrom sklearn.cluster import DBSCAN, KMeans\nfrom sklearn.metrics import accuracy_score, classification_report, confusion_matrix\n\n# Filter warnings\nwarnings.filterwarnings('ignore') #filter warnings\n# Show plots inline\n%matplotlib inline",
   "execution_count": null,
   "outputs": []
  },
  {
   "cell_type": "code",
   "metadata": {
    "tags": [],
    "cell_id": "00002-706cd76c-d1db-4091-9329-78b38d8d4c8c",
    "deepnote_to_be_reexecuted": false,
    "source_hash": "7cc87ed9",
    "execution_start": 1639606938016,
    "execution_millis": 20,
    "deepnote_output_heights": [
     21.1875
    ],
    "deepnote_cell_type": "code"
   },
   "source": "game_df = pd.read_csv('/work/Data/5_game_training_data.csv')\ngame_df.shape",
   "execution_count": null,
   "outputs": [
    {
     "output_type": "execute_result",
     "execution_count": 3,
     "data": {
      "text/plain": "(2411, 17)"
     },
     "metadata": {}
    }
   ]
  },
  {
   "cell_type": "code",
   "metadata": {
    "tags": [],
    "deepnote_to_be_reexecuted": false,
    "source_hash": "fd3de315",
    "execution_start": 1639606938040,
    "execution_millis": 96,
    "cell_id": "00002-a58bd267-cfc7-4638-b42c-83c2ded6fd94",
    "deepnote_cell_type": "code"
   },
   "source": "ping_df = pd.read_csv('/work/Data/2_ping_training_data.csv', delimiter='\\t')\nvoice_df  = pd.read_csv('/work/Data/4_voice_training_data.csv', delimiter='\\t')\ndns_df = pd.read_csv('/work/Data/1_dns_training_data.csv', delimiter='\\t')\ntelnet_df = pd.read_csv('/work/Data/3_telnet_training_data.csv', delimiter='\\t')\ngame_df = pd.read_csv('/work/Data/5_game_training_data.csv')\nquake_df = pd.read_csv('/work/Data/6_quake_training_data.csv', delimiter='\\t')\ndf = pd.concat([ping_df, voice_df, dns_df, telnet_df,game_df, quake_df], ignore_index=True)",
   "execution_count": null,
   "outputs": []
  },
  {
   "cell_type": "code",
   "metadata": {
    "tags": [],
    "deepnote_to_be_reexecuted": false,
    "source_hash": "1bd18b6b",
    "execution_start": 1639606938142,
    "execution_millis": 26,
    "cell_id": "00003-98f84da3-e658-4555-8823-985c30260533",
    "deepnote_cell_type": "code"
   },
   "source": "df.dropna(inplace=True)",
   "execution_count": null,
   "outputs": []
  },
  {
   "cell_type": "code",
   "metadata": {
    "tags": [],
    "deepnote_to_be_reexecuted": false,
    "source_hash": "2a4c602c",
    "execution_start": 1639606938181,
    "execution_millis": 45,
    "cell_id": "00004-3adc163c-1992-4899-a862-cd7eb3d3e6a3",
    "deepnote_cell_type": "code"
   },
   "source": "df.drop('Forward Packets', axis=1, inplace=True)\ndf.drop('Forward Bytes', axis=1, inplace=True)\ndf.drop('Reverse Packets', axis=1, inplace=True)\ndf.drop('Reverse Bytes', axis=1, inplace=True)",
   "execution_count": null,
   "outputs": []
  },
  {
   "cell_type": "code",
   "metadata": {
    "tags": [],
    "deepnote_to_be_reexecuted": false,
    "source_hash": "e4a54c0",
    "execution_start": 1639606938227,
    "execution_millis": 0,
    "cell_id": "00005-18006d06-310b-49c6-ada8-aee0bb4806db",
    "deepnote_cell_type": "code"
   },
   "source": "df['Traffic Type'] = df['Traffic Type'].astype('category')",
   "execution_count": null,
   "outputs": []
  },
  {
   "cell_type": "code",
   "metadata": {
    "tags": [],
    "deepnote_to_be_reexecuted": false,
    "source_hash": "8d852353",
    "execution_start": 1639606938228,
    "execution_millis": 186,
    "deepnote_output_heights": [
     117.125
    ],
    "cell_id": "00006-cbed4f34-b2d4-4945-a1d3-7ea48bef8047",
    "deepnote_cell_type": "code"
   },
   "source": "df['Traffic Type'].cat.codes.head()",
   "execution_count": null,
   "outputs": [
    {
     "output_type": "execute_result",
     "execution_count": 8,
     "data": {
      "text/plain": "0    2\n1    2\n2    2\n3    2\n4    2\ndtype: int8"
     },
     "metadata": {}
    }
   ]
  },
  {
   "cell_type": "code",
   "metadata": {
    "tags": [],
    "deepnote_to_be_reexecuted": false,
    "source_hash": "3356d47d",
    "execution_start": 1639606938271,
    "execution_millis": 145,
    "cell_id": "00007-268ebb8a-ae95-4e70-9f4f-a0a9d3fa4272",
    "deepnote_cell_type": "code"
   },
   "source": "print('Features:',df.columns[:-1].values)",
   "execution_count": null,
   "outputs": [
    {
     "name": "stdout",
     "text": "Features: ['Delta Forward Packets' 'Delta Forward Bytes'\n 'Forward Instantaneous Packets per Second'\n 'Forward Average Packets per second'\n 'Forward Instantaneous Bytes per Second'\n 'Forward Average Bytes per second' 'Delta Reverse Packets'\n 'Delta Reverse Bytes' 'DeltaReverse Instantaneous Packets per Second'\n 'Reverse Average Packets per second'\n 'Reverse Instantaneous Bytes per Second'\n 'Reverse Average Bytes per second']\n",
     "output_type": "stream",
     "data": {}
    }
   ]
  },
  {
   "cell_type": "code",
   "metadata": {
    "tags": [],
    "deepnote_to_be_reexecuted": false,
    "source_hash": "cba2f66e",
    "execution_start": 1639606938272,
    "execution_millis": 146,
    "deepnote_output_heights": [
     null,
     117.125
    ],
    "cell_id": "00008-d6e7ca7e-eee4-49f2-9e68-7a3dfca9e142",
    "deepnote_cell_type": "code"
   },
   "source": "print ('Value counts:')\ndf['Traffic Type'].value_counts()",
   "execution_count": null,
   "outputs": [
    {
     "name": "stdout",
     "text": "Value counts:\n",
     "output_type": "stream",
     "data": {}
    },
    {
     "output_type": "execute_result",
     "execution_count": 10,
     "data": {
      "text/plain": "game      2411\nping      1770\nquake     1244\ntelnet    1181\ndns       1154\nvoice     1137\nName: Traffic Type, dtype: int64"
     },
     "metadata": {}
    }
   ]
  },
  {
   "cell_type": "code",
   "metadata": {
    "tags": [],
    "deepnote_to_be_reexecuted": false,
    "source_hash": "35c227cb",
    "execution_start": 1639606938330,
    "execution_millis": 1,
    "cell_id": "00009-a02bdf3d-5021-4334-93f2-e9f87b0b65ee",
    "deepnote_cell_type": "code"
   },
   "source": "X = df.drop('Traffic Type',axis=1)\ny = df['Traffic Type']",
   "execution_count": null,
   "outputs": []
  },
  {
   "cell_type": "code",
   "metadata": {
    "tags": [],
    "deepnote_to_be_reexecuted": false,
    "source_hash": "d9bc3235",
    "execution_start": 1639606938332,
    "execution_millis": 1,
    "cell_id": "00010-6d1b8297-d471-4d95-8d0a-47d69ef66acf",
    "deepnote_cell_type": "code"
   },
   "source": "X_train, X_test, y_train, y_test = train_test_split(X,y,test_size=0.5, random_state=101)",
   "execution_count": null,
   "outputs": []
  },
  {
   "cell_type": "code",
   "metadata": {
    "tags": [],
    "deepnote_to_be_reexecuted": false,
    "source_hash": "4e690cc3",
    "execution_start": 1639606938333,
    "execution_millis": 1,
    "cell_id": "00011-9022e2cf-f2c7-4b7f-8dcd-9763e32e83ed",
    "deepnote_cell_type": "code"
   },
   "source": "from sklearn.neighbors import KNeighborsClassifier",
   "execution_count": null,
   "outputs": []
  },
  {
   "cell_type": "code",
   "metadata": {
    "tags": [],
    "deepnote_to_be_reexecuted": false,
    "source_hash": "51a6b34b",
    "execution_start": 1639606938378,
    "execution_millis": 4870206,
    "cell_id": "00012-08357855-ddd2-44a7-b43c-6f710b45b41c",
    "deepnote_cell_type": "code"
   },
   "source": "model = KNeighborsClassifier()",
   "execution_count": null,
   "outputs": []
  },
  {
   "cell_type": "code",
   "metadata": {
    "tags": [],
    "deepnote_to_be_reexecuted": false,
    "source_hash": "6982db56",
    "execution_start": 1639606938379,
    "execution_millis": 45,
    "deepnote_output_heights": [
     21.1875
    ],
    "cell_id": "00013-fa2b712f-c485-4c60-9ca0-dbe7444e2260",
    "deepnote_cell_type": "code"
   },
   "source": "model.fit(X_train,y_train)",
   "execution_count": null,
   "outputs": [
    {
     "output_type": "execute_result",
     "execution_count": 15,
     "data": {
      "text/plain": "KNeighborsClassifier()"
     },
     "metadata": {}
    }
   ]
  },
  {
   "cell_type": "code",
   "metadata": {
    "tags": [],
    "deepnote_to_be_reexecuted": false,
    "source_hash": "840e712c",
    "execution_start": 1639606938380,
    "execution_millis": 0,
    "cell_id": "00014-d42e49d8-c7b6-4dc6-baa9-1cd84d1e19f6",
    "deepnote_cell_type": "code"
   },
   "source": "idx = 2590 #random number\nsingle_x_test = [df.iloc[idx].drop('Traffic Type').tolist()]\nsingle_y_test = df.iloc[idx]['Traffic Type']",
   "execution_count": null,
   "outputs": []
  },
  {
   "cell_type": "code",
   "metadata": {
    "tags": [],
    "deepnote_to_be_reexecuted": false,
    "source_hash": "36dd35ef",
    "execution_start": 1639606938381,
    "execution_millis": 44,
    "cell_id": "00015-7433abe3-47d9-4cbf-a55b-8f70e12b8b35",
    "deepnote_cell_type": "code"
   },
   "source": "single_prediction = model.predict(single_x_test)\nprint('For this sample, our model predicted %s and it was actually %s' % (single_prediction[0], single_y_test))",
   "execution_count": null,
   "outputs": [
    {
     "name": "stdout",
     "text": "For this sample, our model predicted voice and it was actually voice\n",
     "output_type": "stream",
     "data": {}
    }
   ]
  },
  {
   "cell_type": "code",
   "metadata": {
    "tags": [],
    "deepnote_to_be_reexecuted": false,
    "source_hash": "1a1f61ae",
    "execution_start": 1639606938400,
    "execution_millis": 253,
    "cell_id": "00016-796978d7-7ae1-4a92-8e58-797249dba194",
    "deepnote_cell_type": "code"
   },
   "source": "predictions = model.predict(X_test)",
   "execution_count": null,
   "outputs": []
  },
  {
   "cell_type": "code",
   "metadata": {
    "tags": [],
    "deepnote_to_be_reexecuted": false,
    "source_hash": "8e70f9aa",
    "execution_start": 1639606938687,
    "execution_millis": 45,
    "cell_id": "00017-2f06d9f5-1dae-49f1-bda2-d458f86b990c",
    "deepnote_cell_type": "code"
   },
   "source": "resultsDF = pd.DataFrame({\n        'true':y_test,\n        'predicted':predictions\n    })\nresultsDF.head()",
   "execution_count": null,
   "outputs": [
    {
     "output_type": "execute_result",
     "execution_count": 19,
     "data": {
      "application/vnd.deepnote.dataframe.v3+json": {
       "column_count": 2,
       "row_count": 5,
       "columns": [
        {
         "name": "true",
         "dtype": "category",
         "stats": {
          "unique_count": 4,
          "nan_count": 0,
          "categories": [
           {
            "name": "quake",
            "count": 2
           },
           {
            "name": "ping",
            "count": 1
           },
           {
            "name": "2 others",
            "count": 2
           }
          ]
         }
        },
        {
         "name": "predicted",
         "dtype": "object",
         "stats": {
          "unique_count": 4,
          "nan_count": 0,
          "categories": [
           {
            "name": "quake",
            "count": 2
           },
           {
            "name": "ping",
            "count": 1
           },
           {
            "name": "2 others",
            "count": 2
           }
          ]
         }
        },
        {
         "name": "_deepnote_index_column",
         "dtype": "int64"
        }
       ],
       "rows": [
        {
         "true": "ping",
         "predicted": "ping",
         "_deepnote_index_column": 1622
        },
        {
         "true": "game",
         "predicted": "game",
         "_deepnote_index_column": 5273
        },
        {
         "true": "quake",
         "predicted": "quake",
         "_deepnote_index_column": 8176
        },
        {
         "true": "telnet",
         "predicted": "telnet",
         "_deepnote_index_column": 4631
        },
        {
         "true": "quake",
         "predicted": "quake",
         "_deepnote_index_column": 7807
        }
       ]
      },
      "text/plain": "        true predicted\n1622    ping      ping\n5273    game      game\n8176   quake     quake\n4631  telnet    telnet\n7807   quake     quake",
      "text/html": "<div>\n<style scoped>\n    .dataframe tbody tr th:only-of-type {\n        vertical-align: middle;\n    }\n\n    .dataframe tbody tr th {\n        vertical-align: top;\n    }\n\n    .dataframe thead th {\n        text-align: right;\n    }\n</style>\n<table border=\"1\" class=\"dataframe\">\n  <thead>\n    <tr style=\"text-align: right;\">\n      <th></th>\n      <th>true</th>\n      <th>predicted</th>\n    </tr>\n  </thead>\n  <tbody>\n    <tr>\n      <th>1622</th>\n      <td>ping</td>\n      <td>ping</td>\n    </tr>\n    <tr>\n      <th>5273</th>\n      <td>game</td>\n      <td>game</td>\n    </tr>\n    <tr>\n      <th>8176</th>\n      <td>quake</td>\n      <td>quake</td>\n    </tr>\n    <tr>\n      <th>4631</th>\n      <td>telnet</td>\n      <td>telnet</td>\n    </tr>\n    <tr>\n      <th>7807</th>\n      <td>quake</td>\n      <td>quake</td>\n    </tr>\n  </tbody>\n</table>\n</div>"
     },
     "metadata": {}
    }
   ]
  },
  {
   "cell_type": "code",
   "metadata": {
    "tags": [],
    "deepnote_to_be_reexecuted": false,
    "source_hash": "1ebc13aa",
    "execution_start": 1639606938730,
    "execution_millis": 3,
    "cell_id": "00018-43651f8b-9e24-4e39-9754-ae8fafca2b77",
    "deepnote_cell_type": "code"
   },
   "source": "print('Accuracy: %.2f%%' % (accuracy_score(predictions,y_test)*100))",
   "execution_count": null,
   "outputs": [
    {
     "name": "stdout",
     "text": "Accuracy: 99.30%\n",
     "output_type": "stream",
     "data": {}
    }
   ]
  },
  {
   "cell_type": "code",
   "metadata": {
    "tags": [],
    "deepnote_to_be_reexecuted": false,
    "source_hash": "62303876",
    "execution_start": 1639606938731,
    "execution_millis": 6,
    "cell_id": "00019-4e69f0a7-3302-4849-90ab-df1f277e5d3c",
    "deepnote_cell_type": "code"
   },
   "source": "print(pickle.format_version)",
   "execution_count": null,
   "outputs": [
    {
     "name": "stdout",
     "text": "4.0\n",
     "output_type": "stream",
     "data": {}
    }
   ]
  },
  {
   "cell_type": "code",
   "metadata": {
    "tags": [],
    "deepnote_to_be_reexecuted": false,
    "source_hash": "13389ee4",
    "execution_start": 1639606938736,
    "execution_millis": 24,
    "cell_id": "00020-9e16f121-8367-4ae3-abf4-a25994c2296f",
    "deepnote_cell_type": "code"
   },
   "source": "pickle.dump(model,open('Models/KNeighbors','wb'))",
   "execution_count": null,
   "outputs": []
  },
  {
   "cell_type": "code",
   "metadata": {
    "tags": [],
    "cell_id": "00022-cce49796-5792-4d1f-8133-cd900278bf15",
    "deepnote_to_be_reexecuted": false,
    "source_hash": "b623e53d",
    "execution_start": 1639606938775,
    "execution_millis": 6,
    "deepnote_cell_type": "code"
   },
   "source": "",
   "execution_count": null,
   "outputs": []
  },
  {
   "cell_type": "markdown",
   "source": "<a style='text-decoration:none;line-height:16px;display:flex;color:#5B5B62;padding:10px;justify-content:end;' href='https://deepnote.com?utm_source=created-in-deepnote-cell&projectId=0c140320-dfb6-438f-affb-c603f973d8fc' target=\"_blank\">\n<img alt='Created in deepnote.com' style='display:inline;max-height:16px;margin:0px;margin-right:7.5px;' src='data:image/svg+xml;base64,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' > </img>\nCreated in <span style='font-weight:600;margin-left:4px;'>Deepnote</span></a>",
   "metadata": {
    "tags": [],
    "created_in_deepnote_cell": true,
    "deepnote_cell_type": "markdown"
   }
  }
 ],
 "nbformat": 4,
 "nbformat_minor": 2,
 "metadata": {
  "orig_nbformat": 2,
  "deepnote": {
   "is_reactive": false
  },
  "deepnote_notebook_id": "e7e6323f-8241-40ec-9181-538825140f7b",
  "deepnote_execution_queue": []
 }
}