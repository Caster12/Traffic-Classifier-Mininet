{
 "cells": [
  {
   "cell_type": "markdown",
   "source": "<u>**Table of Contents**</u>\n - <a href=\"#E0\">1. Loading and Cleaning Data</a>\n - <a href=\"#E1\">2. Supervised Model - Logistic Regression</a>\n - <a href=\"#E2\">3. Unsupervised Model - K-Means Clustering</a>",
   "metadata": {
    "cell_id": "00001-6b0c8f55-99ec-4742-9555-c702b1e18e51",
    "deepnote_cell_type": "markdown"
   }
  },
  {
   "cell_type": "markdown",
   "source": "## <a name=\"E0\">1. Loading and Cleaning Data",
   "metadata": {
    "cell_id": "00002-13d66ec9-b1e5-4e4c-9fe8-efdab2b5a243",
    "deepnote_cell_type": "markdown"
   }
  },
  {
   "cell_type": "markdown",
   "source": "In this section, we will load the training data collected for Voice, DNS, Telnet, and Ping data from traffic_classifier.py script. We will clean the data for usability with the Machine Learning models.",
   "metadata": {
    "cell_id": "00003-45520393-3294-4d72-9c7f-4995f005a60b",
    "deepnote_cell_type": "markdown"
   }
  },
  {
   "cell_type": "markdown",
   "source": "#### Install necessary libraries\nFirst we will install the necessary libraries to run the following code.",
   "metadata": {
    "cell_id": "00004-6e97275e-c00a-4b5f-a2cd-d547ac23cb9e",
    "deepnote_cell_type": "markdown"
   }
  },
  {
   "cell_type": "code",
   "metadata": {
    "collapsed": false,
    "cell_id": "00005-75578475-8ea7-4967-a44b-e2badc87db0b",
    "deepnote_to_be_reexecuted": false,
    "source_hash": "4c5a392a",
    "execution_start": 1639606799036,
    "execution_millis": 19061,
    "deepnote_cell_type": "code"
   },
   "source": "!pip install numpy\n!pip install pandas\n!pip install matplotlib\n!pip install seaborn\n!pip install sklearn",
   "outputs": [
    {
     "name": "stdout",
     "text": "Requirement already satisfied: numpy in /shared-libs/python3.7/py/lib/python3.7/site-packages (1.19.5)\n\u001b[33mWARNING: You are using pip version 20.1.1; however, version 21.3.1 is available.\nYou should consider upgrading via the '/root/venv/bin/python -m pip install --upgrade pip' command.\u001b[0m\nRequirement already satisfied: pandas in /shared-libs/python3.7/py/lib/python3.7/site-packages (1.2.5)\nRequirement already satisfied: pytz>=2017.3 in /shared-libs/python3.7/py/lib/python3.7/site-packages (from pandas) (2021.3)\nRequirement already satisfied: numpy>=1.16.5 in /shared-libs/python3.7/py/lib/python3.7/site-packages (from pandas) (1.19.5)\nRequirement already satisfied: python-dateutil>=2.7.3 in /shared-libs/python3.7/py-core/lib/python3.7/site-packages (from pandas) (2.8.2)\nRequirement already satisfied: six>=1.5 in /shared-libs/python3.7/py-core/lib/python3.7/site-packages (from python-dateutil>=2.7.3->pandas) (1.16.0)\n\u001b[33mWARNING: You are using pip version 20.1.1; however, version 21.3.1 is available.\nYou should consider upgrading via the '/root/venv/bin/python -m pip install --upgrade pip' command.\u001b[0m\nRequirement already satisfied: matplotlib in /shared-libs/python3.7/py/lib/python3.7/site-packages (3.5.1)\nRequirement already satisfied: fonttools>=4.22.0 in /shared-libs/python3.7/py/lib/python3.7/site-packages (from matplotlib) (4.28.3)\nRequirement already satisfied: packaging>=20.0 in /shared-libs/python3.7/py-core/lib/python3.7/site-packages (from matplotlib) (21.3)\nRequirement already satisfied: pyparsing>=2.2.1 in /shared-libs/python3.7/py-core/lib/python3.7/site-packages (from matplotlib) (3.0.6)\nRequirement already satisfied: numpy>=1.17 in /shared-libs/python3.7/py/lib/python3.7/site-packages (from matplotlib) (1.19.5)\nRequirement already satisfied: python-dateutil>=2.7 in /shared-libs/python3.7/py-core/lib/python3.7/site-packages (from matplotlib) (2.8.2)\nRequirement already satisfied: kiwisolver>=1.0.1 in /shared-libs/python3.7/py/lib/python3.7/site-packages (from matplotlib) (1.3.2)\nRequirement already satisfied: cycler>=0.10 in /shared-libs/python3.7/py/lib/python3.7/site-packages (from matplotlib) (0.11.0)\nRequirement already satisfied: pillow>=6.2.0 in /shared-libs/python3.7/py/lib/python3.7/site-packages (from matplotlib) (8.4.0)\nRequirement already satisfied: six>=1.5 in /shared-libs/python3.7/py-core/lib/python3.7/site-packages (from python-dateutil>=2.7->matplotlib) (1.16.0)\n\u001b[33mWARNING: You are using pip version 20.1.1; however, version 21.3.1 is available.\nYou should consider upgrading via the '/root/venv/bin/python -m pip install --upgrade pip' command.\u001b[0m\nRequirement already satisfied: seaborn in /shared-libs/python3.7/py/lib/python3.7/site-packages (0.11.2)\nRequirement already satisfied: numpy>=1.15 in /shared-libs/python3.7/py/lib/python3.7/site-packages (from seaborn) (1.19.5)\nRequirement already satisfied: pandas>=0.23 in /shared-libs/python3.7/py/lib/python3.7/site-packages (from seaborn) (1.2.5)\nRequirement already satisfied: matplotlib>=2.2 in /shared-libs/python3.7/py/lib/python3.7/site-packages (from seaborn) (3.5.1)\nRequirement already satisfied: scipy>=1.0 in /shared-libs/python3.7/py/lib/python3.7/site-packages (from seaborn) (1.7.3)\nRequirement already satisfied: python-dateutil>=2.7.3 in /shared-libs/python3.7/py-core/lib/python3.7/site-packages (from pandas>=0.23->seaborn) (2.8.2)\nRequirement already satisfied: pytz>=2017.3 in /shared-libs/python3.7/py/lib/python3.7/site-packages (from pandas>=0.23->seaborn) (2021.3)\nRequirement already satisfied: pyparsing>=2.2.1 in /shared-libs/python3.7/py-core/lib/python3.7/site-packages (from matplotlib>=2.2->seaborn) (3.0.6)\nRequirement already satisfied: fonttools>=4.22.0 in /shared-libs/python3.7/py/lib/python3.7/site-packages (from matplotlib>=2.2->seaborn) (4.28.3)\nRequirement already satisfied: packaging>=20.0 in /shared-libs/python3.7/py-core/lib/python3.7/site-packages (from matplotlib>=2.2->seaborn) (21.3)\nRequirement already satisfied: kiwisolver>=1.0.1 in /shared-libs/python3.7/py/lib/python3.7/site-packages (from matplotlib>=2.2->seaborn) (1.3.2)\nRequirement already satisfied: pillow>=6.2.0 in /shared-libs/python3.7/py/lib/python3.7/site-packages (from matplotlib>=2.2->seaborn) (8.4.0)\nRequirement already satisfied: cycler>=0.10 in /shared-libs/python3.7/py/lib/python3.7/site-packages (from matplotlib>=2.2->seaborn) (0.11.0)\nRequirement already satisfied: six>=1.5 in /shared-libs/python3.7/py-core/lib/python3.7/site-packages (from python-dateutil>=2.7.3->pandas>=0.23->seaborn) (1.16.0)\n\u001b[33mWARNING: You are using pip version 20.1.1; however, version 21.3.1 is available.\nYou should consider upgrading via the '/root/venv/bin/python -m pip install --upgrade pip' command.\u001b[0m\nRequirement already satisfied: sklearn in /root/venv/lib/python3.7/site-packages (0.0)\nRequirement already satisfied: scikit-learn in /shared-libs/python3.7/py/lib/python3.7/site-packages (from sklearn) (1.0.1)\nRequirement already satisfied: threadpoolctl>=2.0.0 in /shared-libs/python3.7/py/lib/python3.7/site-packages (from scikit-learn->sklearn) (3.0.0)\nRequirement already satisfied: scipy>=1.1.0 in /shared-libs/python3.7/py/lib/python3.7/site-packages (from scikit-learn->sklearn) (1.7.3)\nRequirement already satisfied: joblib>=0.11 in /shared-libs/python3.7/py/lib/python3.7/site-packages (from scikit-learn->sklearn) (1.1.0)\nRequirement already satisfied: numpy>=1.14.6 in /shared-libs/python3.7/py/lib/python3.7/site-packages (from scikit-learn->sklearn) (1.19.5)\n\u001b[33mWARNING: You are using pip version 20.1.1; however, version 21.3.1 is available.\nYou should consider upgrading via the '/root/venv/bin/python -m pip install --upgrade pip' command.\u001b[0m\n",
     "output_type": "stream",
     "data": {}
    }
   ],
   "execution_count": null
  },
  {
   "cell_type": "markdown",
   "source": "#### Importing libraries\nThen we will import the libraries we need to run the following code.",
   "metadata": {
    "cell_id": "00006-11643af1-b6bc-436d-803d-ea65b113fe21",
    "deepnote_cell_type": "markdown"
   }
  },
  {
   "cell_type": "code",
   "metadata": {
    "collapsed": false,
    "cell_id": "00007-ee15e010-a434-4998-9e53-a4b7048f7aaf",
    "deepnote_to_be_reexecuted": false,
    "source_hash": "1b7f72d",
    "execution_start": 1639606818088,
    "execution_millis": 2292,
    "deepnote_cell_type": "code"
   },
   "source": "import numpy as np\nimport pandas as pd\nfrom scipy import stats\nimport pickle\n\n# Plotting libraries\nimport seaborn as sns\nimport matplotlib.pyplot as plt\n\n# Sklearn libraries\nfrom sklearn.preprocessing import StandardScaler\nfrom sklearn.preprocessing import label_binarize\nfrom sklearn.model_selection import train_test_split\nfrom sklearn.decomposition import PCA\nfrom sklearn.linear_model import LogisticRegression\nfrom sklearn.cluster import DBSCAN, KMeans\nfrom sklearn.metrics import accuracy_score, classification_report, confusion_matrix\n\n# Filter warnings\nwarnings.filterwarnings('ignore') #filter warnings\n# Show plots inline\n%matplotlib inline",
   "outputs": [],
   "execution_count": null
  },
  {
   "cell_type": "markdown",
   "source": "#### Loading Data\nHere we load the CSV data collected from the Python script into pandas dataframe",
   "metadata": {
    "cell_id": "00008-36594568-b9da-4a9e-a6f2-06f242214cab",
    "deepnote_cell_type": "markdown"
   }
  },
  {
   "cell_type": "code",
   "metadata": {
    "collapsed": true,
    "cell_id": "00009-fda4dc68-e521-421e-8d92-fbd5178ee40b",
    "deepnote_to_be_reexecuted": false,
    "source_hash": "fd3de315",
    "execution_start": 1639606820390,
    "execution_millis": 65,
    "deepnote_cell_type": "code"
   },
   "source": "ping_df = pd.read_csv('/work/Data/2_ping_training_data.csv', delimiter='\\t')\nvoice_df  = pd.read_csv('/work/Data/4_voice_training_data.csv', delimiter='\\t')\ndns_df = pd.read_csv('/work/Data/1_dns_training_data.csv', delimiter='\\t')\ntelnet_df = pd.read_csv('/work/Data/3_telnet_training_data.csv', delimiter='\\t')\ngame_df = pd.read_csv('/work/Data/5_game_training_data.csv')\nquake_df = pd.read_csv('/work/Data/6_quake_training_data.csv', delimiter='\\t')\ndf = pd.concat([ping_df, voice_df, dns_df, telnet_df,game_df, quake_df], ignore_index=True)",
   "outputs": [],
   "execution_count": null
  },
  {
   "cell_type": "code",
   "source": "ping_df.shape",
   "metadata": {
    "tags": [],
    "cell_id": "00009-34c83017-83e9-4771-9073-b9a25c257176",
    "deepnote_to_be_reexecuted": false,
    "source_hash": "e257bc4f",
    "execution_start": 1639606820473,
    "execution_millis": 1,
    "deepnote_output_heights": [
     21.1875
    ],
    "deepnote_cell_type": "code"
   },
   "outputs": [
    {
     "output_type": "execute_result",
     "execution_count": 4,
     "data": {
      "text/plain": "(1771, 17)"
     },
     "metadata": {}
    }
   ],
   "execution_count": null
  },
  {
   "cell_type": "code",
   "source": "voice_df.shape",
   "metadata": {
    "tags": [],
    "cell_id": "00010-5113855a-dd31-4d16-96cb-ced6fd1269e1",
    "deepnote_to_be_reexecuted": false,
    "source_hash": "b7250569",
    "execution_start": 1639606820496,
    "execution_millis": 15,
    "deepnote_output_heights": [
     21.1875
    ],
    "deepnote_cell_type": "code"
   },
   "outputs": [
    {
     "output_type": "execute_result",
     "execution_count": 5,
     "data": {
      "text/plain": "(1137, 17)"
     },
     "metadata": {}
    }
   ],
   "execution_count": null
  },
  {
   "cell_type": "code",
   "source": "dns_df.shape",
   "metadata": {
    "tags": [],
    "cell_id": "00011-c474a4a7-0ecc-49c0-8f57-cb8abfeb2392",
    "deepnote_to_be_reexecuted": false,
    "source_hash": "44f34d26",
    "execution_start": 1639606820536,
    "execution_millis": 72396,
    "deepnote_output_heights": [
     21.1875
    ],
    "deepnote_cell_type": "code"
   },
   "outputs": [
    {
     "output_type": "execute_result",
     "execution_count": 6,
     "data": {
      "text/plain": "(1154, 17)"
     },
     "metadata": {}
    }
   ],
   "execution_count": null
  },
  {
   "cell_type": "code",
   "source": "telnet_df.shape",
   "metadata": {
    "tags": [],
    "cell_id": "00012-cab2c0e3-e548-411f-a96e-a7cd80831de1",
    "deepnote_to_be_reexecuted": false,
    "source_hash": "b6b8be98",
    "execution_start": 1639606820538,
    "execution_millis": 5,
    "deepnote_output_heights": [
     21.1875
    ],
    "deepnote_cell_type": "code"
   },
   "outputs": [
    {
     "output_type": "execute_result",
     "execution_count": 7,
     "data": {
      "text/plain": "(1181, 17)"
     },
     "metadata": {}
    }
   ],
   "execution_count": null
  },
  {
   "cell_type": "code",
   "source": "game_df.shape",
   "metadata": {
    "tags": [],
    "cell_id": "00013-ba52745b-9c37-4a2e-815f-636234b48f2c",
    "deepnote_to_be_reexecuted": false,
    "source_hash": "8a6d688c",
    "execution_start": 1639606820539,
    "execution_millis": 4,
    "deepnote_output_heights": [
     21.1875
    ],
    "deepnote_cell_type": "code"
   },
   "outputs": [
    {
     "output_type": "execute_result",
     "execution_count": 8,
     "data": {
      "text/plain": "(2411, 17)"
     },
     "metadata": {}
    }
   ],
   "execution_count": null
  },
  {
   "cell_type": "code",
   "source": "quake_df.shape",
   "metadata": {
    "tags": [],
    "cell_id": "00014-4ee2f45e-f238-4001-ba9c-f485c23e27ba",
    "deepnote_to_be_reexecuted": false,
    "source_hash": "75bdf64c",
    "execution_start": 1639606820550,
    "execution_millis": 5,
    "deepnote_output_heights": [
     21.1875
    ],
    "deepnote_cell_type": "code"
   },
   "outputs": [
    {
     "output_type": "execute_result",
     "execution_count": 9,
     "data": {
      "text/plain": "(1244, 17)"
     },
     "metadata": {}
    }
   ],
   "execution_count": null
  },
  {
   "cell_type": "markdown",
   "source": "#### Cleaning Data\nDrop any rows that contain NaN (this happens when the training script ends abruptly)",
   "metadata": {
    "cell_id": "00010-742d1b6e-d643-45c9-abdb-7bc79dec8162",
    "deepnote_cell_type": "markdown"
   }
  },
  {
   "cell_type": "code",
   "metadata": {
    "cell_id": "00011-89e9d358-5e49-458f-91a7-0df74be3c4e0",
    "deepnote_to_be_reexecuted": false,
    "source_hash": "1bd18b6b",
    "execution_start": 1639606820553,
    "execution_millis": 26,
    "deepnote_cell_type": "code"
   },
   "source": "df.dropna(inplace=True)",
   "outputs": [],
   "execution_count": null
  },
  {
   "cell_type": "markdown",
   "source": "Drop the Forward Packets, Forward Bytes, Reverse Packets, Reverse Bytes data. This data increases linearly and at a certain point in time can be any value so it is not helpful as a feature in the model. ",
   "metadata": {
    "cell_id": "00012-1beb8dee-e893-46c6-bb9d-da206aff16c6",
    "deepnote_cell_type": "markdown"
   }
  },
  {
   "cell_type": "code",
   "metadata": {
    "cell_id": "00013-0112570a-900b-4d03-b210-ac4f4305f5c5",
    "deepnote_to_be_reexecuted": false,
    "source_hash": "2a4c602c",
    "execution_start": 1639606820596,
    "execution_millis": 3,
    "deepnote_cell_type": "code"
   },
   "source": "df.drop('Forward Packets', axis=1, inplace=True)\ndf.drop('Forward Bytes', axis=1, inplace=True)\ndf.drop('Reverse Packets', axis=1, inplace=True)\ndf.drop('Reverse Bytes', axis=1, inplace=True)",
   "outputs": [],
   "execution_count": null
  },
  {
   "cell_type": "markdown",
   "source": "#### Describing Data",
   "metadata": {
    "cell_id": "00014-e429d324-0472-442f-9f60-8351ba6fae5f",
    "deepnote_cell_type": "markdown"
   }
  },
  {
   "cell_type": "markdown",
   "source": "Now we have 5242 rows and 13 columns (12 features, 1 target)",
   "metadata": {
    "cell_id": "00015-13811dce-f3c7-4d1d-8f24-44ff8521e5ed",
    "deepnote_cell_type": "markdown"
   }
  },
  {
   "cell_type": "code",
   "metadata": {
    "cell_id": "00016-ab2465fc-c486-4f87-8a66-f28fa23748b4",
    "deepnote_to_be_reexecuted": false,
    "source_hash": "35809e90",
    "execution_start": 1639606820610,
    "execution_millis": 2,
    "deepnote_cell_type": "code"
   },
   "source": "print(df.shape)",
   "outputs": [
    {
     "name": "stdout",
     "text": "(8897, 13)\n",
     "output_type": "stream",
     "data": {}
    }
   ],
   "execution_count": null
  },
  {
   "cell_type": "markdown",
   "source": "We can take a look at basic statistical information about our data now.",
   "metadata": {
    "cell_id": "00017-4962a0c6-46d7-4934-933f-615236e7cfff",
    "deepnote_cell_type": "markdown"
   }
  },
  {
   "cell_type": "code",
   "metadata": {
    "collapsed": false,
    "cell_id": "00018-b166320c-5ece-4ab7-908c-2380b4e5d21d",
    "deepnote_output_heights": [
     264
    ],
    "deepnote_to_be_reexecuted": false,
    "source_hash": "f88152d9",
    "execution_start": 1639606820611,
    "execution_millis": 186,
    "deepnote_cell_type": "code"
   },
   "source": "df.describe()",
   "outputs": [
    {
     "output_type": "execute_result",
     "execution_count": 13,
     "data": {
      "application/vnd.deepnote.dataframe.v3+json": {
       "column_count": 12,
       "row_count": 8,
       "columns": [
        {
         "name": "Delta Forward Packets",
         "dtype": "float64",
         "stats": {
          "unique_count": 6,
          "nan_count": 0,
          "min": "0.0",
          "max": "8897.0",
          "histogram": [
           {
            "bin_start": 0,
            "bin_end": 889.7,
            "count": 7
           },
           {
            "bin_start": 889.7,
            "bin_end": 1779.4,
            "count": 0
           },
           {
            "bin_start": 1779.4,
            "bin_end": 2669.1000000000004,
            "count": 0
           },
           {
            "bin_start": 2669.1000000000004,
            "bin_end": 3558.8,
            "count": 0
           },
           {
            "bin_start": 3558.8,
            "bin_end": 4448.5,
            "count": 0
           },
           {
            "bin_start": 4448.5,
            "bin_end": 5338.200000000001,
            "count": 0
           },
           {
            "bin_start": 5338.200000000001,
            "bin_end": 6227.900000000001,
            "count": 0
           },
           {
            "bin_start": 6227.900000000001,
            "bin_end": 7117.6,
            "count": 0
           },
           {
            "bin_start": 7117.6,
            "bin_end": 8007.3,
            "count": 0
           },
           {
            "bin_start": 8007.3,
            "bin_end": 8897,
            "count": 1
           }
          ]
         }
        },
        {
         "name": "Delta Forward Bytes",
         "dtype": "float64",
         "stats": {
          "unique_count": 6,
          "nan_count": 0,
          "min": "0.0",
          "max": "18581.0",
          "histogram": [
           {
            "bin_start": 0,
            "bin_end": 1858.1,
            "count": 5
           },
           {
            "bin_start": 1858.1,
            "bin_end": 3716.2,
            "count": 1
           },
           {
            "bin_start": 3716.2,
            "bin_end": 5574.299999999999,
            "count": 0
           },
           {
            "bin_start": 5574.299999999999,
            "bin_end": 7432.4,
            "count": 0
           },
           {
            "bin_start": 7432.4,
            "bin_end": 9290.5,
            "count": 1
           },
           {
            "bin_start": 9290.5,
            "bin_end": 11148.599999999999,
            "count": 0
           },
           {
            "bin_start": 11148.599999999999,
            "bin_end": 13006.699999999999,
            "count": 0
           },
           {
            "bin_start": 13006.699999999999,
            "bin_end": 14864.8,
            "count": 0
           },
           {
            "bin_start": 14864.8,
            "bin_end": 16722.899999999998,
            "count": 0
           },
           {
            "bin_start": 16722.899999999998,
            "bin_end": 18581,
            "count": 1
           }
          ]
         }
        },
        {
         "name": "Forward Instantaneous Packets per Second",
         "dtype": "float64",
         "stats": {
          "unique_count": 6,
          "nan_count": 0,
          "min": "0.0",
          "max": "8897.0",
          "histogram": [
           {
            "bin_start": 0,
            "bin_end": 889.7,
            "count": 7
           },
           {
            "bin_start": 889.7,
            "bin_end": 1779.4,
            "count": 0
           },
           {
            "bin_start": 1779.4,
            "bin_end": 2669.1000000000004,
            "count": 0
           },
           {
            "bin_start": 2669.1000000000004,
            "bin_end": 3558.8,
            "count": 0
           },
           {
            "bin_start": 3558.8,
            "bin_end": 4448.5,
            "count": 0
           },
           {
            "bin_start": 4448.5,
            "bin_end": 5338.200000000001,
            "count": 0
           },
           {
            "bin_start": 5338.200000000001,
            "bin_end": 6227.900000000001,
            "count": 0
           },
           {
            "bin_start": 6227.900000000001,
            "bin_end": 7117.6,
            "count": 0
           },
           {
            "bin_start": 7117.6,
            "bin_end": 8007.3,
            "count": 0
           },
           {
            "bin_start": 8007.3,
            "bin_end": 8897,
            "count": 1
           }
          ]
         }
        },
        {
         "name": "Forward Average Packets per second",
         "dtype": "float64",
         "stats": {
          "unique_count": 8,
          "nan_count": 0,
          "min": "0.0",
          "max": "8897.0",
          "histogram": [
           {
            "bin_start": 0,
            "bin_end": 889.7,
            "count": 6
           },
           {
            "bin_start": 889.7,
            "bin_end": 1779.4,
            "count": 0
           },
           {
            "bin_start": 1779.4,
            "bin_end": 2669.1000000000004,
            "count": 0
           },
           {
            "bin_start": 2669.1000000000004,
            "bin_end": 3558.8,
            "count": 0
           },
           {
            "bin_start": 3558.8,
            "bin_end": 4448.5,
            "count": 0
           },
           {
            "bin_start": 4448.5,
            "bin_end": 5338.200000000001,
            "count": 1
           },
           {
            "bin_start": 5338.200000000001,
            "bin_end": 6227.900000000001,
            "count": 0
           },
           {
            "bin_start": 6227.900000000001,
            "bin_end": 7117.6,
            "count": 0
           },
           {
            "bin_start": 7117.6,
            "bin_end": 8007.3,
            "count": 0
           },
           {
            "bin_start": 8007.3,
            "bin_end": 8897,
            "count": 1
           }
          ]
         }
        },
        {
         "name": "Forward Instantaneous Bytes per Second",
         "dtype": "float64",
         "stats": {
          "unique_count": 6,
          "nan_count": 0,
          "min": "0.0",
          "max": "18581.0",
          "histogram": [
           {
            "bin_start": 0,
            "bin_end": 1858.1,
            "count": 5
           },
           {
            "bin_start": 1858.1,
            "bin_end": 3716.2,
            "count": 1
           },
           {
            "bin_start": 3716.2,
            "bin_end": 5574.299999999999,
            "count": 0
           },
           {
            "bin_start": 5574.299999999999,
            "bin_end": 7432.4,
            "count": 0
           },
           {
            "bin_start": 7432.4,
            "bin_end": 9290.5,
            "count": 1
           },
           {
            "bin_start": 9290.5,
            "bin_end": 11148.599999999999,
            "count": 0
           },
           {
            "bin_start": 11148.599999999999,
            "bin_end": 13006.699999999999,
            "count": 0
           },
           {
            "bin_start": 13006.699999999999,
            "bin_end": 14864.8,
            "count": 0
           },
           {
            "bin_start": 14864.8,
            "bin_end": 16722.899999999998,
            "count": 0
           },
           {
            "bin_start": 16722.899999999998,
            "bin_end": 18581,
            "count": 1
           }
          ]
         }
        },
        {
         "name": "Forward Average Bytes per second",
         "dtype": "float64",
         "stats": {
          "unique_count": 8,
          "nan_count": 0,
          "min": "0.0",
          "max": "394687.0",
          "histogram": [
           {
            "bin_start": 0,
            "bin_end": 39468.7,
            "count": 7
           },
           {
            "bin_start": 39468.7,
            "bin_end": 78937.4,
            "count": 0
           },
           {
            "bin_start": 78937.4,
            "bin_end": 118406.09999999999,
            "count": 0
           },
           {
            "bin_start": 118406.09999999999,
            "bin_end": 157874.8,
            "count": 0
           },
           {
            "bin_start": 157874.8,
            "bin_end": 197343.5,
            "count": 0
           },
           {
            "bin_start": 197343.5,
            "bin_end": 236812.19999999998,
            "count": 0
           },
           {
            "bin_start": 236812.19999999998,
            "bin_end": 276280.89999999997,
            "count": 0
           },
           {
            "bin_start": 276280.89999999997,
            "bin_end": 315749.6,
            "count": 0
           },
           {
            "bin_start": 315749.6,
            "bin_end": 355218.3,
            "count": 0
           },
           {
            "bin_start": 355218.3,
            "bin_end": 394687,
            "count": 1
           }
          ]
         }
        },
        {
         "name": "Delta Reverse Packets",
         "dtype": "float64",
         "stats": {
          "unique_count": 7,
          "nan_count": 0,
          "min": "0.0",
          "max": "8897.0",
          "histogram": [
           {
            "bin_start": 0,
            "bin_end": 889.7,
            "count": 7
           },
           {
            "bin_start": 889.7,
            "bin_end": 1779.4,
            "count": 0
           },
           {
            "bin_start": 1779.4,
            "bin_end": 2669.1000000000004,
            "count": 0
           },
           {
            "bin_start": 2669.1000000000004,
            "bin_end": 3558.8,
            "count": 0
           },
           {
            "bin_start": 3558.8,
            "bin_end": 4448.5,
            "count": 0
           },
           {
            "bin_start": 4448.5,
            "bin_end": 5338.200000000001,
            "count": 0
           },
           {
            "bin_start": 5338.200000000001,
            "bin_end": 6227.900000000001,
            "count": 0
           },
           {
            "bin_start": 6227.900000000001,
            "bin_end": 7117.6,
            "count": 0
           },
           {
            "bin_start": 7117.6,
            "bin_end": 8007.3,
            "count": 0
           },
           {
            "bin_start": 8007.3,
            "bin_end": 8897,
            "count": 1
           }
          ]
         }
        },
        {
         "name": "Delta Reverse Bytes",
         "dtype": "float64",
         "stats": {
          "unique_count": 7,
          "nan_count": 0,
          "min": "0.0",
          "max": "16213.0",
          "histogram": [
           {
            "bin_start": 0,
            "bin_end": 1621.3,
            "count": 3
           },
           {
            "bin_start": 1621.3,
            "bin_end": 3242.6,
            "count": 1
           },
           {
            "bin_start": 3242.6,
            "bin_end": 4863.9,
            "count": 1
           },
           {
            "bin_start": 4863.9,
            "bin_end": 6485.2,
            "count": 0
           },
           {
            "bin_start": 6485.2,
            "bin_end": 8106.5,
            "count": 1
           },
           {
            "bin_start": 8106.5,
            "bin_end": 9727.8,
            "count": 1
           },
           {
            "bin_start": 9727.8,
            "bin_end": 11349.1,
            "count": 0
           },
           {
            "bin_start": 11349.1,
            "bin_end": 12970.4,
            "count": 0
           },
           {
            "bin_start": 12970.4,
            "bin_end": 14591.699999999999,
            "count": 0
           },
           {
            "bin_start": 14591.699999999999,
            "bin_end": 16213,
            "count": 1
           }
          ]
         }
        },
        {
         "name": "DeltaReverse Instantaneous Packets per Second",
         "dtype": "float64",
         "stats": {
          "unique_count": 7,
          "nan_count": 0,
          "min": "0.0",
          "max": "8897.0",
          "histogram": [
           {
            "bin_start": 0,
            "bin_end": 889.7,
            "count": 7
           },
           {
            "bin_start": 889.7,
            "bin_end": 1779.4,
            "count": 0
           },
           {
            "bin_start": 1779.4,
            "bin_end": 2669.1000000000004,
            "count": 0
           },
           {
            "bin_start": 2669.1000000000004,
            "bin_end": 3558.8,
            "count": 0
           },
           {
            "bin_start": 3558.8,
            "bin_end": 4448.5,
            "count": 0
           },
           {
            "bin_start": 4448.5,
            "bin_end": 5338.200000000001,
            "count": 0
           },
           {
            "bin_start": 5338.200000000001,
            "bin_end": 6227.900000000001,
            "count": 0
           },
           {
            "bin_start": 6227.900000000001,
            "bin_end": 7117.6,
            "count": 0
           },
           {
            "bin_start": 7117.6,
            "bin_end": 8007.3,
            "count": 0
           },
           {
            "bin_start": 8007.3,
            "bin_end": 8897,
            "count": 1
           }
          ]
         }
        },
        {
         "name": "Reverse Average Packets per second",
         "dtype": "float64",
         "stats": {
          "unique_count": 7,
          "nan_count": 0,
          "min": "0.0",
          "max": "8897.0",
          "histogram": [
           {
            "bin_start": 0,
            "bin_end": 889.7,
            "count": 7
           },
           {
            "bin_start": 889.7,
            "bin_end": 1779.4,
            "count": 0
           },
           {
            "bin_start": 1779.4,
            "bin_end": 2669.1000000000004,
            "count": 0
           },
           {
            "bin_start": 2669.1000000000004,
            "bin_end": 3558.8,
            "count": 0
           },
           {
            "bin_start": 3558.8,
            "bin_end": 4448.5,
            "count": 0
           },
           {
            "bin_start": 4448.5,
            "bin_end": 5338.200000000001,
            "count": 0
           },
           {
            "bin_start": 5338.200000000001,
            "bin_end": 6227.900000000001,
            "count": 0
           },
           {
            "bin_start": 6227.900000000001,
            "bin_end": 7117.6,
            "count": 0
           },
           {
            "bin_start": 7117.6,
            "bin_end": 8007.3,
            "count": 0
           },
           {
            "bin_start": 8007.3,
            "bin_end": 8897,
            "count": 1
           }
          ]
         }
        },
        {
         "name": "Reverse Instantaneous Bytes per Second",
         "dtype": "float64",
         "stats": {
          "unique_count": 7,
          "nan_count": 0,
          "min": "0.0",
          "max": "16213.0",
          "histogram": [
           {
            "bin_start": 0,
            "bin_end": 1621.3,
            "count": 3
           },
           {
            "bin_start": 1621.3,
            "bin_end": 3242.6,
            "count": 1
           },
           {
            "bin_start": 3242.6,
            "bin_end": 4863.9,
            "count": 1
           },
           {
            "bin_start": 4863.9,
            "bin_end": 6485.2,
            "count": 1
           },
           {
            "bin_start": 6485.2,
            "bin_end": 8106.5,
            "count": 0
           },
           {
            "bin_start": 8106.5,
            "bin_end": 9727.8,
            "count": 1
           },
           {
            "bin_start": 9727.8,
            "bin_end": 11349.1,
            "count": 0
           },
           {
            "bin_start": 11349.1,
            "bin_end": 12970.4,
            "count": 0
           },
           {
            "bin_start": 12970.4,
            "bin_end": 14591.699999999999,
            "count": 0
           },
           {
            "bin_start": 14591.699999999999,
            "bin_end": 16213,
            "count": 1
           }
          ]
         }
        },
        {
         "name": "Reverse Average Bytes per second",
         "dtype": "float64",
         "stats": {
          "unique_count": 7,
          "nan_count": 0,
          "min": "0.0",
          "max": "11351.107544141252",
          "histogram": [
           {
            "bin_start": 0,
            "bin_end": 1135.1107544141253,
            "count": 3
           },
           {
            "bin_start": 1135.1107544141253,
            "bin_end": 2270.2215088282505,
            "count": 0
           },
           {
            "bin_start": 2270.2215088282505,
            "bin_end": 3405.332263242376,
            "count": 1
           },
           {
            "bin_start": 3405.332263242376,
            "bin_end": 4540.443017656501,
            "count": 1
           },
           {
            "bin_start": 4540.443017656501,
            "bin_end": 5675.553772070626,
            "count": 0
           },
           {
            "bin_start": 5675.553772070626,
            "bin_end": 6810.664526484752,
            "count": 0
           },
           {
            "bin_start": 6810.664526484752,
            "bin_end": 7945.775280898877,
            "count": 1
           },
           {
            "bin_start": 7945.775280898877,
            "bin_end": 9080.886035313002,
            "count": 1
           },
           {
            "bin_start": 9080.886035313002,
            "bin_end": 10215.996789727127,
            "count": 0
           },
           {
            "bin_start": 10215.996789727127,
            "bin_end": 11351.107544141252,
            "count": 1
           }
          ]
         }
        },
        {
         "name": "_deepnote_index_column",
         "dtype": "object"
        }
       ],
       "rows": [
        {
         "Delta Forward Packets": 8897,
         "Delta Forward Bytes": 8897,
         "Forward Instantaneous Packets per Second": 8897,
         "Forward Average Packets per second": 8897,
         "Forward Instantaneous Bytes per Second": 8897,
         "Forward Average Bytes per second": 8897,
         "Delta Reverse Packets": 8897,
         "Delta Reverse Bytes": 8897,
         "DeltaReverse Instantaneous Packets per Second": 8897,
         "Reverse Average Packets per second": 8897,
         "Reverse Instantaneous Bytes per Second": 8897,
         "Reverse Average Bytes per second": 8897,
         "_deepnote_index_column": "count"
        },
        {
         "Delta Forward Packets": 7.257614926379679,
         "Delta Forward Bytes": 621.5192761605035,
         "Forward Instantaneous Packets per Second": 7.226368438799596,
         "Forward Average Packets per second": 19.139139036190432,
         "Forward Instantaneous Bytes per Second": 618.7817241766887,
         "Forward Average Bytes per second": 1532.7196874334884,
         "Delta Reverse Packets": 25.403731594919634,
         "Delta Reverse Bytes": 2808.259638080252,
         "DeltaReverse Instantaneous Packets per Second": 25.332359222209735,
         "Reverse Average Packets per second": 22.62045084910305,
         "Reverse Instantaneous Bytes per Second": 2802.0754186804543,
         "Reverse Average Bytes per second": 2552.9937924578985,
         "_deepnote_index_column": "mean"
        },
        {
         "Delta Forward Packets": 22.146873070521526,
         "Delta Forward Bytes": 1939.782110128196,
         "Forward Instantaneous Packets per Second": 22.071512221630382,
         "Forward Average Packets per second": 113.08335184700107,
         "Forward Instantaneous Bytes per Second": 1933.080886981892,
         "Forward Average Bytes per second": 8971.382489648333,
         "Delta Reverse Packets": 43.806943666635355,
         "Delta Reverse Bytes": 4624.308012667921,
         "DeltaReverse Instantaneous Packets per Second": 43.74728757493555,
         "Reverse Average Packets per second": 34.4148036447302,
         "Reverse Instantaneous Bytes per Second": 4620.044669647518,
         "Reverse Average Bytes per second": 3888.211449863453,
         "_deepnote_index_column": "std"
        },
        {
         "Delta Forward Packets": 0,
         "Delta Forward Bytes": 0,
         "Forward Instantaneous Packets per Second": 0,
         "Forward Average Packets per second": 0,
         "Forward Instantaneous Bytes per Second": 0,
         "Forward Average Bytes per second": 0,
         "Delta Reverse Packets": 0,
         "Delta Reverse Bytes": 0,
         "DeltaReverse Instantaneous Packets per Second": 0,
         "Reverse Average Packets per second": 0,
         "Reverse Instantaneous Bytes per Second": 0,
         "Reverse Average Bytes per second": 0,
         "_deepnote_index_column": "min"
        },
        {
         "Delta Forward Packets": 0,
         "Delta Forward Bytes": 0,
         "Forward Instantaneous Packets per Second": 0,
         "Forward Average Packets per second": 0.9220055710306406,
         "Forward Instantaneous Bytes per Second": 0,
         "Forward Average Bytes per second": 62.85714285714285,
         "Delta Reverse Packets": 0,
         "Delta Reverse Bytes": 0,
         "DeltaReverse Instantaneous Packets per Second": 0,
         "Reverse Average Packets per second": 0,
         "Reverse Instantaneous Bytes per Second": 0,
         "Reverse Average Bytes per second": 0,
         "_deepnote_index_column": "25%"
        },
        {
         "Delta Forward Packets": 0,
         "Delta Forward Bytes": 0,
         "Forward Instantaneous Packets per Second": 0,
         "Forward Average Packets per second": 1.0223880597,
         "Forward Instantaneous Bytes per Second": 0,
         "Forward Average Bytes per second": 98.8249158249,
         "Delta Reverse Packets": 1,
         "Delta Reverse Bytes": 98,
         "DeltaReverse Instantaneous Packets per Second": 1,
         "Reverse Average Packets per second": 1.4041666666666666,
         "Reverse Instantaneous Bytes per Second": 98,
         "Reverse Average Bytes per second": 190.1542857142857,
         "_deepnote_index_column": "50%"
        },
        {
         "Delta Forward Packets": 1,
         "Delta Forward Bytes": 98,
         "Forward Instantaneous Packets per Second": 1,
         "Forward Average Packets per second": 20.2102564102564,
         "Forward Instantaneous Bytes per Second": 98,
         "Forward Average Bytes per second": 1634.9449541284405,
         "Delta Reverse Packets": 48,
         "Delta Reverse Bytes": 6519,
         "DeltaReverse Instantaneous Packets per Second": 48,
         "Reverse Average Packets per second": 44.725,
         "Reverse Instantaneous Bytes per Second": 6391,
         "Reverse Average Bytes per second": 6933.297872340426,
         "_deepnote_index_column": "75%"
        },
        {
         "Delta Forward Packets": 211,
         "Delta Forward Bytes": 18581,
         "Forward Instantaneous Packets per Second": 211,
         "Forward Average Packets per second": 4521,
         "Forward Instantaneous Bytes per Second": 18581,
         "Forward Average Bytes per second": 394687,
         "Delta Reverse Packets": 210,
         "Delta Reverse Bytes": 16213,
         "DeltaReverse Instantaneous Packets per Second": 210,
         "Reverse Average Packets per second": 107.76404494382022,
         "Reverse Instantaneous Bytes per Second": 16213,
         "Reverse Average Bytes per second": 11351.107544141252,
         "_deepnote_index_column": "max"
        }
       ]
      },
      "text/plain": "       Delta Forward Packets  Delta Forward Bytes  \\\ncount            8897.000000          8897.000000   \nmean                7.257615           621.519276   \nstd                22.146873          1939.782110   \nmin                 0.000000             0.000000   \n25%                 0.000000             0.000000   \n50%                 0.000000             0.000000   \n75%                 1.000000            98.000000   \nmax               211.000000         18581.000000   \n\n       Forward Instantaneous Packets per Second  \\\ncount                               8897.000000   \nmean                                   7.226368   \nstd                                   22.071512   \nmin                                    0.000000   \n25%                                    0.000000   \n50%                                    0.000000   \n75%                                    1.000000   \nmax                                  211.000000   \n\n       Forward Average Packets per second  \\\ncount                         8897.000000   \nmean                            19.139139   \nstd                            113.083352   \nmin                              0.000000   \n25%                              0.922006   \n50%                              1.022388   \n75%                             20.210256   \nmax                           4521.000000   \n\n       Forward Instantaneous Bytes per Second  \\\ncount                             8897.000000   \nmean                               618.781724   \nstd                               1933.080887   \nmin                                  0.000000   \n25%                                  0.000000   \n50%                                  0.000000   \n75%                                 98.000000   \nmax                              18581.000000   \n\n       Forward Average Bytes per second  Delta Reverse Packets  \\\ncount                       8897.000000            8897.000000   \nmean                        1532.719687              25.403732   \nstd                         8971.382490              43.806944   \nmin                            0.000000               0.000000   \n25%                           62.857143               0.000000   \n50%                           98.824916               1.000000   \n75%                         1634.944954              48.000000   \nmax                       394687.000000             210.000000   \n\n       Delta Reverse Bytes  DeltaReverse Instantaneous Packets per Second  \\\ncount          8897.000000                                    8897.000000   \nmean           2808.259638                                      25.332359   \nstd            4624.308013                                      43.747288   \nmin               0.000000                                       0.000000   \n25%               0.000000                                       0.000000   \n50%              98.000000                                       1.000000   \n75%            6519.000000                                      48.000000   \nmax           16213.000000                                     210.000000   \n\n       Reverse Average Packets per second  \\\ncount                         8897.000000   \nmean                            22.620451   \nstd                             34.414804   \nmin                              0.000000   \n25%                              0.000000   \n50%                              1.404167   \n75%                             44.725000   \nmax                            107.764045   \n\n       Reverse Instantaneous Bytes per Second  \\\ncount                             8897.000000   \nmean                              2802.075419   \nstd                               4620.044670   \nmin                                  0.000000   \n25%                                  0.000000   \n50%                                 98.000000   \n75%                               6391.000000   \nmax                              16213.000000   \n\n       Reverse Average Bytes per second  \ncount                       8897.000000  \nmean                        2552.993792  \nstd                         3888.211450  \nmin                            0.000000  \n25%                            0.000000  \n50%                          190.154286  \n75%                         6933.297872  \nmax                        11351.107544  ",
      "text/html": "<div>\n<style scoped>\n    .dataframe tbody tr th:only-of-type {\n        vertical-align: middle;\n    }\n\n    .dataframe tbody tr th {\n        vertical-align: top;\n    }\n\n    .dataframe thead th {\n        text-align: right;\n    }\n</style>\n<table border=\"1\" class=\"dataframe\">\n  <thead>\n    <tr style=\"text-align: right;\">\n      <th></th>\n      <th>Delta Forward Packets</th>\n      <th>Delta Forward Bytes</th>\n      <th>Forward Instantaneous Packets per Second</th>\n      <th>Forward Average Packets per second</th>\n      <th>Forward Instantaneous Bytes per Second</th>\n      <th>Forward Average Bytes per second</th>\n      <th>Delta Reverse Packets</th>\n      <th>Delta Reverse Bytes</th>\n      <th>DeltaReverse Instantaneous Packets per Second</th>\n      <th>Reverse Average Packets per second</th>\n      <th>Reverse Instantaneous Bytes per Second</th>\n      <th>Reverse Average Bytes per second</th>\n    </tr>\n  </thead>\n  <tbody>\n    <tr>\n      <th>count</th>\n      <td>8897.000000</td>\n      <td>8897.000000</td>\n      <td>8897.000000</td>\n      <td>8897.000000</td>\n      <td>8897.000000</td>\n      <td>8897.000000</td>\n      <td>8897.000000</td>\n      <td>8897.000000</td>\n      <td>8897.000000</td>\n      <td>8897.000000</td>\n      <td>8897.000000</td>\n      <td>8897.000000</td>\n    </tr>\n    <tr>\n      <th>mean</th>\n      <td>7.257615</td>\n      <td>621.519276</td>\n      <td>7.226368</td>\n      <td>19.139139</td>\n      <td>618.781724</td>\n      <td>1532.719687</td>\n      <td>25.403732</td>\n      <td>2808.259638</td>\n      <td>25.332359</td>\n      <td>22.620451</td>\n      <td>2802.075419</td>\n      <td>2552.993792</td>\n    </tr>\n    <tr>\n      <th>std</th>\n      <td>22.146873</td>\n      <td>1939.782110</td>\n      <td>22.071512</td>\n      <td>113.083352</td>\n      <td>1933.080887</td>\n      <td>8971.382490</td>\n      <td>43.806944</td>\n      <td>4624.308013</td>\n      <td>43.747288</td>\n      <td>34.414804</td>\n      <td>4620.044670</td>\n      <td>3888.211450</td>\n    </tr>\n    <tr>\n      <th>min</th>\n      <td>0.000000</td>\n      <td>0.000000</td>\n      <td>0.000000</td>\n      <td>0.000000</td>\n      <td>0.000000</td>\n      <td>0.000000</td>\n      <td>0.000000</td>\n      <td>0.000000</td>\n      <td>0.000000</td>\n      <td>0.000000</td>\n      <td>0.000000</td>\n      <td>0.000000</td>\n    </tr>\n    <tr>\n      <th>25%</th>\n      <td>0.000000</td>\n      <td>0.000000</td>\n      <td>0.000000</td>\n      <td>0.922006</td>\n      <td>0.000000</td>\n      <td>62.857143</td>\n      <td>0.000000</td>\n      <td>0.000000</td>\n      <td>0.000000</td>\n      <td>0.000000</td>\n      <td>0.000000</td>\n      <td>0.000000</td>\n    </tr>\n    <tr>\n      <th>50%</th>\n      <td>0.000000</td>\n      <td>0.000000</td>\n      <td>0.000000</td>\n      <td>1.022388</td>\n      <td>0.000000</td>\n      <td>98.824916</td>\n      <td>1.000000</td>\n      <td>98.000000</td>\n      <td>1.000000</td>\n      <td>1.404167</td>\n      <td>98.000000</td>\n      <td>190.154286</td>\n    </tr>\n    <tr>\n      <th>75%</th>\n      <td>1.000000</td>\n      <td>98.000000</td>\n      <td>1.000000</td>\n      <td>20.210256</td>\n      <td>98.000000</td>\n      <td>1634.944954</td>\n      <td>48.000000</td>\n      <td>6519.000000</td>\n      <td>48.000000</td>\n      <td>44.725000</td>\n      <td>6391.000000</td>\n      <td>6933.297872</td>\n    </tr>\n    <tr>\n      <th>max</th>\n      <td>211.000000</td>\n      <td>18581.000000</td>\n      <td>211.000000</td>\n      <td>4521.000000</td>\n      <td>18581.000000</td>\n      <td>394687.000000</td>\n      <td>210.000000</td>\n      <td>16213.000000</td>\n      <td>210.000000</td>\n      <td>107.764045</td>\n      <td>16213.000000</td>\n      <td>11351.107544</td>\n    </tr>\n  </tbody>\n</table>\n</div>"
     },
     "metadata": {}
    }
   ],
   "execution_count": null
  },
  {
   "cell_type": "code",
   "metadata": {
    "cell_id": "00019-f87e7267-56dd-4a5f-b5e0-861d3bbef9ea",
    "deepnote_to_be_reexecuted": false,
    "source_hash": "de1e323c",
    "execution_start": 1639606820794,
    "execution_millis": 4,
    "deepnote_cell_type": "code"
   },
   "source": "df.info()",
   "outputs": [
    {
     "name": "stdout",
     "text": "<class 'pandas.core.frame.DataFrame'>\nInt64Index: 8897 entries, 0 to 8897\nData columns (total 13 columns):\n #   Column                                         Non-Null Count  Dtype  \n---  ------                                         --------------  -----  \n 0   Delta Forward Packets                          8897 non-null   int64  \n 1   Delta Forward Bytes                            8897 non-null   int64  \n 2   Forward Instantaneous Packets per Second       8897 non-null   float64\n 3   Forward Average Packets per second             8897 non-null   float64\n 4   Forward Instantaneous Bytes per Second         8897 non-null   float64\n 5   Forward Average Bytes per second               8897 non-null   float64\n 6   Delta Reverse Packets                          8897 non-null   float64\n 7   Delta Reverse Bytes                            8897 non-null   float64\n 8   DeltaReverse Instantaneous Packets per Second  8897 non-null   float64\n 9   Reverse Average Packets per second             8897 non-null   float64\n 10  Reverse Instantaneous Bytes per Second         8897 non-null   float64\n 11  Reverse Average Bytes per second               8897 non-null   float64\n 12  Traffic Type                                   8897 non-null   object \ndtypes: float64(10), int64(2), object(1)\nmemory usage: 973.1+ KB\n",
     "output_type": "stream",
     "data": {}
    }
   ],
   "execution_count": null
  },
  {
   "cell_type": "markdown",
   "source": "The type of the traffic column is object. We will convert this to a category so we can use `.cat` functionalities (Functions specific to categories).",
   "metadata": {
    "cell_id": "00020-58b5eaa3-f3dc-4e28-a925-18321ff75028",
    "deepnote_cell_type": "markdown"
   }
  },
  {
   "cell_type": "code",
   "metadata": {
    "collapsed": false,
    "cell_id": "00021-3c8ff770-3e25-4e1a-9c49-de8a261215e9",
    "deepnote_to_be_reexecuted": false,
    "source_hash": "e4a54c0",
    "execution_start": 1639606820795,
    "execution_millis": 0,
    "deepnote_cell_type": "code"
   },
   "source": "df['Traffic Type'] = df['Traffic Type'].astype('category')",
   "outputs": [],
   "execution_count": null
  },
  {
   "cell_type": "markdown",
   "source": "We can view all the types using `.cat.categories`:",
   "metadata": {
    "cell_id": "00022-c72acd61-9918-48e3-8719-d6e66af687c2",
    "deepnote_cell_type": "markdown"
   }
  },
  {
   "cell_type": "code",
   "metadata": {
    "collapsed": false,
    "cell_id": "00023-b037a740-6cf3-40ef-b190-9a1b3273fe41",
    "deepnote_output_heights": [
     21.1875
    ],
    "deepnote_to_be_reexecuted": false,
    "source_hash": "d4bfaed4",
    "execution_start": 1639606820795,
    "execution_millis": 10,
    "deepnote_cell_type": "code"
   },
   "source": "df['Traffic Type'].cat.categories",
   "outputs": [
    {
     "output_type": "execute_result",
     "execution_count": 16,
     "data": {
      "text/plain": "Index(['dns', 'game', 'ping', 'quake', 'telnet', 'voice'], dtype='object')"
     },
     "metadata": {}
    }
   ],
   "execution_count": null
  },
  {
   "cell_type": "markdown",
   "source": "We can also get the data coded numerically using `.cat.codes`",
   "metadata": {
    "cell_id": "00024-6896aa31-a7cb-4105-947d-c298c183e3ce",
    "deepnote_cell_type": "markdown"
   }
  },
  {
   "cell_type": "code",
   "metadata": {
    "collapsed": false,
    "cell_id": "00025-28eaa736-0b67-483a-989c-245759429062",
    "deepnote_output_heights": [
     117.1875
    ],
    "deepnote_to_be_reexecuted": false,
    "source_hash": "8d852353",
    "execution_start": 1639606820808,
    "execution_millis": 4,
    "deepnote_cell_type": "code"
   },
   "source": "df['Traffic Type'].cat.codes.head()",
   "outputs": [
    {
     "output_type": "execute_result",
     "execution_count": 17,
     "data": {
      "text/plain": "0    2\n1    2\n2    2\n3    2\n4    2\ndtype: int8"
     },
     "metadata": {}
    }
   ],
   "execution_count": null
  },
  {
   "cell_type": "markdown",
   "source": "The following features will be used in the model",
   "metadata": {
    "cell_id": "00026-afe093a5-8590-4567-82e5-b1f4fad02dbb",
    "deepnote_cell_type": "markdown"
   }
  },
  {
   "cell_type": "code",
   "metadata": {
    "collapsed": false,
    "cell_id": "00027-a5762af1-4127-4602-bbcf-0b59cbaed095",
    "deepnote_to_be_reexecuted": false,
    "source_hash": "3356d47d",
    "execution_start": 1639606820833,
    "execution_millis": 22,
    "deepnote_cell_type": "code"
   },
   "source": "print('Features:',df.columns[:-1].values)",
   "outputs": [
    {
     "name": "stdout",
     "text": "Features: ['Delta Forward Packets' 'Delta Forward Bytes'\n 'Forward Instantaneous Packets per Second'\n 'Forward Average Packets per second'\n 'Forward Instantaneous Bytes per Second'\n 'Forward Average Bytes per second' 'Delta Reverse Packets'\n 'Delta Reverse Bytes' 'DeltaReverse Instantaneous Packets per Second'\n 'Reverse Average Packets per second'\n 'Reverse Instantaneous Bytes per Second'\n 'Reverse Average Bytes per second']\n",
     "output_type": "stream",
     "data": {}
    }
   ],
   "execution_count": null
  },
  {
   "cell_type": "markdown",
   "source": "These are the counts of each type of traffic",
   "metadata": {
    "cell_id": "00028-d28f43c5-1532-4cf9-b657-89dfdad1eb4f",
    "deepnote_cell_type": "markdown"
   }
  },
  {
   "cell_type": "code",
   "metadata": {
    "collapsed": false,
    "cell_id": "00029-f32b334a-9c61-403f-b2ec-53a505d30024",
    "deepnote_output_heights": [
     null,
     136.375
    ],
    "deepnote_to_be_reexecuted": false,
    "source_hash": "cba2f66e",
    "execution_start": 1639606820842,
    "execution_millis": 23,
    "deepnote_cell_type": "code"
   },
   "source": "print ('Value counts:')\ndf['Traffic Type'].value_counts()",
   "outputs": [
    {
     "name": "stdout",
     "text": "Value counts:\n",
     "output_type": "stream",
     "data": {}
    },
    {
     "output_type": "execute_result",
     "execution_count": 19,
     "data": {
      "text/plain": "game      2411\nping      1770\nquake     1244\ntelnet    1181\ndns       1154\nvoice     1137\nName: Traffic Type, dtype: int64"
     },
     "metadata": {}
    }
   ],
   "execution_count": null
  },
  {
   "cell_type": "markdown",
   "source": "## <a name=\"E1\"> 2. Supervised Model - Logistic Regression ",
   "metadata": {
    "cell_id": "00030-97a049a9-57ec-4cf7-be77-777f2f76ade4",
    "deepnote_cell_type": "markdown"
   }
  },
  {
   "cell_type": "markdown",
   "source": "Now we will train a logistic regression model on this dataset by splitting it into a training and testing set. ",
   "metadata": {
    "cell_id": "00031-0f343e40-a965-4547-aa38-fe3213255703",
    "deepnote_cell_type": "markdown"
   }
  },
  {
   "cell_type": "markdown",
   "source": "#### Split dataset\nFirst we will split the dataset into features and targets.",
   "metadata": {
    "cell_id": "00032-37e605e1-1126-40a4-978e-fb36b4b1f913",
    "deepnote_cell_type": "markdown"
   }
  },
  {
   "cell_type": "code",
   "metadata": {
    "collapsed": false,
    "cell_id": "00033-1144163b-3c9e-45bc-9226-c5c2dd514bdc",
    "deepnote_to_be_reexecuted": false,
    "source_hash": "35c227cb",
    "execution_start": 1639606820862,
    "execution_millis": 1,
    "deepnote_cell_type": "code"
   },
   "source": "X = df.drop('Traffic Type',axis=1)\ny = df['Traffic Type']",
   "outputs": [],
   "execution_count": null
  },
  {
   "cell_type": "markdown",
   "source": "#### Create training and testing sets\nWe will use train_test_split with test size of 0.3 to put 70% of our data into training, and 30% into testing. The random_state is set so the results are repeatable.",
   "metadata": {
    "cell_id": "00034-f54239ce-d8cc-4ecc-864a-1832818ac107",
    "deepnote_cell_type": "markdown"
   }
  },
  {
   "cell_type": "code",
   "metadata": {
    "collapsed": false,
    "cell_id": "00035-385c9228-d62e-42c6-8efe-93cfa918b9a6",
    "deepnote_to_be_reexecuted": false,
    "source_hash": "d9bc3235",
    "execution_start": 1639606820872,
    "execution_millis": 4,
    "deepnote_cell_type": "code"
   },
   "source": "X_train, X_test, y_train, y_test = train_test_split(X,y,test_size=0.5, random_state=101)",
   "outputs": [],
   "execution_count": null
  },
  {
   "cell_type": "markdown",
   "source": "#### Train model\nNow we will create and train the model.",
   "metadata": {
    "cell_id": "00036-3a7efce8-c2b1-4c70-8aa5-893cfe87f654",
    "deepnote_cell_type": "markdown"
   }
  },
  {
   "cell_type": "code",
   "metadata": {
    "collapsed": true,
    "cell_id": "00037-6360523a-81bf-4e70-b281-225cd6aa3d96",
    "deepnote_to_be_reexecuted": false,
    "source_hash": "d3a9a9f0",
    "execution_start": 1639606820888,
    "execution_millis": 5427210,
    "deepnote_cell_type": "code"
   },
   "source": "model = LogisticRegression()",
   "outputs": [],
   "execution_count": null
  },
  {
   "cell_type": "code",
   "metadata": {
    "collapsed": false,
    "cell_id": "00038-96444f71-b5cf-428a-9bb6-846e49a3ef7f",
    "deepnote_output_heights": [
     21.1875
    ],
    "deepnote_to_be_reexecuted": false,
    "source_hash": "6982db56",
    "execution_start": 1639606820892,
    "execution_millis": 622,
    "deepnote_cell_type": "code"
   },
   "source": "model.fit(X_train,y_train)",
   "outputs": [
    {
     "output_type": "execute_result",
     "execution_count": 23,
     "data": {
      "text/plain": "LogisticRegression()"
     },
     "metadata": {}
    }
   ],
   "execution_count": null
  },
  {
   "cell_type": "markdown",
   "source": "#### Make predictions\nSingle prediction",
   "metadata": {
    "cell_id": "00039-5ab14c5b-7020-4717-96c7-6fa897210bb0",
    "deepnote_cell_type": "markdown"
   }
  },
  {
   "cell_type": "code",
   "metadata": {
    "collapsed": false,
    "cell_id": "00040-d7edc973-b9de-4be2-afef-6c6405ecc699",
    "deepnote_to_be_reexecuted": false,
    "source_hash": "840e712c",
    "execution_start": 1639606821514,
    "execution_millis": 10,
    "deepnote_cell_type": "code"
   },
   "source": "idx = 2590 #random number\nsingle_x_test = [df.iloc[idx].drop('Traffic Type').tolist()]\nsingle_y_test = df.iloc[idx]['Traffic Type']",
   "outputs": [],
   "execution_count": null
  },
  {
   "cell_type": "code",
   "metadata": {
    "collapsed": false,
    "cell_id": "00041-56b46bbc-5568-4ff4-a5be-f7a35c700437",
    "deepnote_to_be_reexecuted": false,
    "source_hash": "36dd35ef",
    "execution_start": 1639606821536,
    "execution_millis": 41,
    "deepnote_cell_type": "code"
   },
   "source": "single_prediction = model.predict(single_x_test)\nprint('For this sample, our model predicted %s and it was actually %s' % (single_prediction[0], single_y_test))",
   "outputs": [
    {
     "name": "stdout",
     "text": "For this sample, our model predicted voice and it was actually voice\n",
     "output_type": "stream",
     "data": {}
    }
   ],
   "execution_count": null
  },
  {
   "cell_type": "markdown",
   "source": "Entire test set",
   "metadata": {
    "cell_id": "00042-50d104e4-b8f1-465b-aceb-e9a96b866fc5",
    "deepnote_cell_type": "markdown"
   }
  },
  {
   "cell_type": "code",
   "metadata": {
    "collapsed": true,
    "cell_id": "00043-51ccdfac-df6a-4bf8-b793-37b31ae2be56",
    "deepnote_to_be_reexecuted": false,
    "source_hash": "1a1f61ae",
    "execution_start": 1639606821578,
    "execution_millis": 2,
    "deepnote_cell_type": "code"
   },
   "source": "predictions = model.predict(X_test)",
   "outputs": [],
   "execution_count": null
  },
  {
   "cell_type": "markdown",
   "source": "We can create a dataframe to see these in table form:",
   "metadata": {
    "cell_id": "00044-5d916710-b055-4f7e-b031-55ccb6dc9034",
    "deepnote_cell_type": "markdown"
   }
  },
  {
   "cell_type": "code",
   "metadata": {
    "collapsed": false,
    "cell_id": "00045-0484980b-33a8-445a-bcf2-13bf1ef72fc9",
    "deepnote_output_heights": [
     177
    ],
    "deepnote_to_be_reexecuted": false,
    "source_hash": "8e70f9aa",
    "execution_start": 1639606821591,
    "execution_millis": 34,
    "deepnote_cell_type": "code"
   },
   "source": "resultsDF = pd.DataFrame({\n        'true':y_test,\n        'predicted':predictions\n    })\nresultsDF.head()",
   "outputs": [
    {
     "output_type": "execute_result",
     "execution_count": 27,
     "data": {
      "application/vnd.deepnote.dataframe.v3+json": {
       "column_count": 2,
       "row_count": 5,
       "columns": [
        {
         "name": "true",
         "dtype": "category",
         "stats": {
          "unique_count": 4,
          "nan_count": 0,
          "categories": [
           {
            "name": "quake",
            "count": 2
           },
           {
            "name": "ping",
            "count": 1
           },
           {
            "name": "2 others",
            "count": 2
           }
          ]
         }
        },
        {
         "name": "predicted",
         "dtype": "object",
         "stats": {
          "unique_count": 4,
          "nan_count": 0,
          "categories": [
           {
            "name": "quake",
            "count": 2
           },
           {
            "name": "ping",
            "count": 1
           },
           {
            "name": "2 others",
            "count": 2
           }
          ]
         }
        },
        {
         "name": "_deepnote_index_column",
         "dtype": "int64"
        }
       ],
       "rows": [
        {
         "true": "ping",
         "predicted": "ping",
         "_deepnote_index_column": 1622
        },
        {
         "true": "game",
         "predicted": "game",
         "_deepnote_index_column": 5273
        },
        {
         "true": "quake",
         "predicted": "quake",
         "_deepnote_index_column": 8176
        },
        {
         "true": "telnet",
         "predicted": "telnet",
         "_deepnote_index_column": 4631
        },
        {
         "true": "quake",
         "predicted": "quake",
         "_deepnote_index_column": 7807
        }
       ]
      },
      "text/plain": "        true predicted\n1622    ping      ping\n5273    game      game\n8176   quake     quake\n4631  telnet    telnet\n7807   quake     quake",
      "text/html": "<div>\n<style scoped>\n    .dataframe tbody tr th:only-of-type {\n        vertical-align: middle;\n    }\n\n    .dataframe tbody tr th {\n        vertical-align: top;\n    }\n\n    .dataframe thead th {\n        text-align: right;\n    }\n</style>\n<table border=\"1\" class=\"dataframe\">\n  <thead>\n    <tr style=\"text-align: right;\">\n      <th></th>\n      <th>true</th>\n      <th>predicted</th>\n    </tr>\n  </thead>\n  <tbody>\n    <tr>\n      <th>1622</th>\n      <td>ping</td>\n      <td>ping</td>\n    </tr>\n    <tr>\n      <th>5273</th>\n      <td>game</td>\n      <td>game</td>\n    </tr>\n    <tr>\n      <th>8176</th>\n      <td>quake</td>\n      <td>quake</td>\n    </tr>\n    <tr>\n      <th>4631</th>\n      <td>telnet</td>\n      <td>telnet</td>\n    </tr>\n    <tr>\n      <th>7807</th>\n      <td>quake</td>\n      <td>quake</td>\n    </tr>\n  </tbody>\n</table>\n</div>"
     },
     "metadata": {}
    }
   ],
   "execution_count": null
  },
  {
   "cell_type": "markdown",
   "source": "We see the model has a <b>99.68%</b> accuracy",
   "metadata": {
    "cell_id": "00046-3cd384a7-8dcd-4b46-a0fb-b51901513908",
    "deepnote_cell_type": "markdown"
   }
  },
  {
   "cell_type": "code",
   "metadata": {
    "collapsed": false,
    "cell_id": "00047-e3ef79d8-6d6d-4dfc-a007-89d67933e2dc",
    "deepnote_to_be_reexecuted": false,
    "source_hash": "1ebc13aa",
    "execution_start": 1639606821624,
    "execution_millis": 35,
    "deepnote_cell_type": "code"
   },
   "source": "print('Accuracy: %.2f%%' % (accuracy_score(predictions,y_test)*100))",
   "outputs": [
    {
     "name": "stdout",
     "text": "Accuracy: 96.47%\n",
     "output_type": "stream",
     "data": {}
    }
   ],
   "execution_count": null
  },
  {
   "cell_type": "markdown",
   "source": "We can save the model using the pickle library to use later in real-time",
   "metadata": {
    "cell_id": "00048-6b138429-12ba-46de-b6c1-7214c1e2a052",
    "deepnote_cell_type": "markdown"
   }
  },
  {
   "cell_type": "code",
   "metadata": {
    "cell_id": "00049-b81b1b41-4d0c-4b18-b2c7-9c12bc7ac558",
    "deepnote_to_be_reexecuted": false,
    "source_hash": "62303876",
    "execution_start": 1639606821651,
    "execution_millis": 28,
    "deepnote_cell_type": "code"
   },
   "source": "print(pickle.format_version)",
   "outputs": [
    {
     "name": "stdout",
     "text": "4.0\n",
     "output_type": "stream",
     "data": {}
    }
   ],
   "execution_count": null
  },
  {
   "cell_type": "code",
   "metadata": {
    "cell_id": "00050-40bac103-3d2d-42f9-af79-8324717157c2",
    "deepnote_to_be_reexecuted": false,
    "source_hash": "46740cc1",
    "execution_start": 1639606821679,
    "execution_millis": 12,
    "deepnote_cell_type": "code"
   },
   "source": "pickle.dump(model,open('LogisticRegression','wb'))",
   "outputs": [],
   "execution_count": null
  },
  {
   "cell_type": "markdown",
   "source": "#### Confusion Matrix\nThe confusion matrix allows you to see the numerical breakdown of the predictions by class:",
   "metadata": {
    "cell_id": "00051-2cdd9883-6496-4017-84a1-480555b1ae1e",
    "deepnote_cell_type": "markdown"
   }
  },
  {
   "cell_type": "code",
   "metadata": {
    "collapsed": false,
    "cell_id": "00052-13f34b1c-0601-476f-9a7c-43dc6abd7443",
    "deepnote_to_be_reexecuted": false,
    "source_hash": "c2f81381",
    "execution_start": 1639606821707,
    "execution_millis": 19,
    "deepnote_cell_type": "code"
   },
   "source": "cm = confusion_matrix(predictions,y_test, labels=y.cat.categories)\nprint(cm)",
   "outputs": [
    {
     "name": "stdout",
     "text": "[[ 550    0    0   11    3    8]\n [   0 1212    0    0    0    0]\n [  24    2  848    8   23    0]\n [   1    0    0  557    0    1]\n [   0    0   64    0  582    0]\n [   0    0    0   12    0  543]]\n",
     "output_type": "stream",
     "data": {}
    }
   ],
   "execution_count": null
  },
  {
   "cell_type": "markdown",
   "source": "To attach labels, we can view it as a dataframe:",
   "metadata": {
    "cell_id": "00053-3bab12b3-2e16-4290-80c6-b95f99393785",
    "deepnote_cell_type": "markdown"
   }
  },
  {
   "cell_type": "code",
   "metadata": {
    "collapsed": false,
    "cell_id": "00054-6e10c8e4-cf77-4878-98eb-c1835f1455c1",
    "deepnote_to_be_reexecuted": false,
    "source_hash": "880dcff8",
    "execution_start": 1639606821727,
    "execution_millis": 29,
    "deepnote_cell_type": "code"
   },
   "source": "cmDF = pd.DataFrame()\n\nfor i, row in enumerate(y.cat.categories):\n    temp = {}\n    for j, col in enumerate(y.cat.categories): \n        temp[col]=cm[i,j]\n    cmDF = cmDF.append(pd.DataFrame.from_dict({row:temp}, orient='index'))\n\nprint(cmDF)",
   "outputs": [
    {
     "name": "stdout",
     "text": "        dns  game  ping  quake  telnet  voice\ndns     550     0     0     11       3      8\ngame      0  1212     0      0       0      0\nping     24     2   848      8      23      0\nquake     1     0     0    557       0      1\ntelnet    0     0    64      0     582      0\nvoice     0     0     0     12       0    543\n",
     "output_type": "stream",
     "data": {}
    }
   ],
   "execution_count": null
  },
  {
   "cell_type": "markdown",
   "source": "We can also add a heatmap to better visualize it",
   "metadata": {
    "cell_id": "00055-2f88298e-e3bc-4e07-8898-903b0eba7c88",
    "deepnote_cell_type": "markdown"
   }
  },
  {
   "cell_type": "code",
   "metadata": {
    "collapsed": false,
    "cell_id": "00056-4c196613-caf1-4c5e-90f4-4283c2c2b0ef",
    "deepnote_output_heights": [
     375
    ],
    "deepnote_to_be_reexecuted": false,
    "source_hash": "f9127cc3",
    "execution_start": 1639606821768,
    "execution_millis": 654,
    "deepnote_cell_type": "code"
   },
   "source": "plt.figure(figsize=(6,6))\nplt.imshow(cm, interpolation='nearest', cmap=plt.cm.Blues)\nplt.title('Confusion Matrix', fontsize=15)\nplt.colorbar()\ntick_marks = np.arange(len(y.unique()))\nplt.xticks(tick_marks, y.unique(), rotation=45, fontsize=12)\nplt.yticks(tick_marks, y.unique(), fontsize=12)\nplt.xlabel('True Label', fontsize=15)\nplt.ylabel('Predicted Label', fontsize=15)\n\nfor i in range(len(cm)):\n    for j in range(len(cm[i])):\n        color = 'black'   \n        if cm[i][j] > 5:\n            color = 'white'\n        plt.text(j, i, format(cm[i][j]), \n                horizontalalignment='center',\n                color=color, fontsize=15)\n",
   "outputs": [
    {
     "data": {
      "text/plain": "<Figure size 432x432 with 2 Axes>",
      "image/png": "[encoded data removed]"
     },
     "metadata": {
      "needs_background": "light",
      "image/png": {
       "width": 410,
       "height": 373
      }
     },
     "output_type": "display_data"
    }
   ],
   "execution_count": null
  },
  {
   "cell_type": "markdown",
   "source": "We can see the model works well for all classes.",
   "metadata": {
    "cell_id": "00057-39e974f8-c312-4a09-86ef-645110dbabd8",
    "deepnote_cell_type": "markdown"
   }
  },
  {
   "cell_type": "markdown",
   "source": "#### Principal Component Analysis\n\nPrincipal Component Analysis (PCA) is a dimension reduction technique. It decomposes your data into principal components where each principal component tries to explain as much variance left as possible in the data, in decending order. E.g., PC1 will explain as much variance as possible, PC2 will try to explain as much of the variance left as possible after the PC1 rotation is applied and so on. Each principal component is a combination of your existing components.\n\nThis will allow us to visualize this higher dimensional data in a lower dimensional space.",
   "metadata": {
    "cell_id": "00058-de360246-fa71-4c74-9e04-fc723bb1ad65",
    "deepnote_cell_type": "markdown"
   }
  },
  {
   "cell_type": "markdown",
   "source": "#### Normalize data\nHere we will scale the data so that they are within the same range. For PCA to work correctly and find the right covariance amongst all the features we need to scale the data so that they are within the same range. This will keep one feature from contributing more to the final components.\n\nThe StandardScaler class from sklearn will remove the mean and scale the data so the have unit variance.",
   "metadata": {
    "cell_id": "00059-e58ff87e-ad53-46a4-8b25-534d61a61966",
    "deepnote_cell_type": "markdown"
   }
  },
  {
   "cell_type": "code",
   "metadata": {
    "collapsed": false,
    "cell_id": "00060-45c6f0f4-e33e-4bbd-b1d8-7bcb42e4af34",
    "deepnote_output_heights": [
     193.96875
    ],
    "deepnote_to_be_reexecuted": false,
    "source_hash": "dec7fac0",
    "execution_start": 1639606822469,
    "execution_millis": 3,
    "deepnote_cell_type": "code"
   },
   "source": "df.drop('Traffic Type',axis=1).values[0:5]",
   "outputs": [
    {
     "output_type": "execute_result",
     "execution_count": 34,
     "data": {
      "text/plain": "array([[ 0. ,  0. ,  0. ,  0. ,  0. ,  0. ,  0. ,  0. ,  0. ,  0. ,  0. ,\n         0. ],\n       [ 1. , 98. ,  1. ,  1. , 98. , 98. ,  0. ,  0. ,  0. ,  0. ,  0. ,\n         0. ],\n       [ 1. , 98. ,  1. ,  1. , 98. , 98. ,  0. ,  0. ,  0. ,  0. ,  0. ,\n         0. ],\n       [ 1. , 98. ,  1. ,  1. , 98. , 98. ,  0. ,  0. ,  0. ,  0. ,  0. ,\n         0. ],\n       [ 1. , 98. ,  1. ,  1. , 98. , 98. ,  1. , 98. ,  1. ,  0.5, 98. ,\n        49. ]])"
     },
     "metadata": {}
    }
   ],
   "execution_count": null
  },
  {
   "cell_type": "markdown",
   "source": "Here are the means/std per feature.",
   "metadata": {
    "cell_id": "00061-ee41c706-9413-42a2-a1cf-ce3746145c2d",
    "deepnote_cell_type": "markdown"
   }
  },
  {
   "cell_type": "code",
   "metadata": {
    "collapsed": false,
    "cell_id": "00062-e575a7f2-a97a-423e-b6fd-7c48a7ca8c56",
    "deepnote_output_heights": [
     59.59375
    ],
    "deepnote_to_be_reexecuted": false,
    "source_hash": "5e691af4",
    "execution_start": 1639606822470,
    "execution_millis": 0,
    "deepnote_cell_type": "code"
   },
   "source": "df.drop('Traffic Type',axis=1).values.mean(axis=0)",
   "outputs": [
    {
     "output_type": "execute_result",
     "execution_count": 35,
     "data": {
      "text/plain": "array([   7.25761493,  621.51927616,    7.22636844,   19.13913904,\n        618.78172418, 1532.71968743,   25.40373159, 2808.25963808,\n         25.33235922,   22.62045085, 2802.07541868, 2552.99379246])"
     },
     "metadata": {}
    }
   ],
   "execution_count": null
  },
  {
   "cell_type": "code",
   "metadata": {
    "collapsed": false,
    "cell_id": "00063-e9842915-9e7c-463a-b424-37cc224f17db",
    "deepnote_output_heights": [
     59.59375
    ],
    "deepnote_to_be_reexecuted": false,
    "source_hash": "44844a3f",
    "execution_start": 1639606822510,
    "execution_millis": 3,
    "deepnote_cell_type": "code"
   },
   "source": "df.drop('Traffic Type',axis=1).values.std(axis=0)",
   "outputs": [
    {
     "output_type": "execute_result",
     "execution_count": 36,
     "data": {
      "text/plain": "array([  22.14562841, 1939.6730938 ,   22.0702718 ,  113.07699653,\n       1932.97224726, 8970.87829528,   43.8044817 , 4624.04812518,\n         43.74482896,   34.41286952, 4619.78502176, 3887.99293122])"
     },
     "metadata": {}
    }
   ],
   "execution_count": null
  },
  {
   "cell_type": "markdown",
   "source": "Here, we fit the scaler.",
   "metadata": {
    "cell_id": "00064-fad0ee00-1bca-41c8-a663-212d54873de7",
    "deepnote_cell_type": "markdown"
   }
  },
  {
   "cell_type": "code",
   "metadata": {
    "collapsed": false,
    "cell_id": "00065-25c0ecbc-f371-44ed-9276-717e4a283224",
    "deepnote_output_heights": [
     21.1875
    ],
    "deepnote_to_be_reexecuted": false,
    "source_hash": "2012ca96",
    "execution_start": 1639606822511,
    "execution_millis": 3,
    "deepnote_cell_type": "code"
   },
   "source": "scaler = StandardScaler()\nscaler.fit(df.drop('Traffic Type',axis=1))",
   "outputs": [
    {
     "output_type": "execute_result",
     "execution_count": 37,
     "data": {
      "text/plain": "StandardScaler()"
     },
     "metadata": {}
    }
   ],
   "execution_count": null
  },
  {
   "cell_type": "code",
   "metadata": {
    "collapsed": false,
    "cell_id": "00066-25e60efd-399c-413d-b6f5-4554de69dee2",
    "deepnote_output_heights": [
     289.96875
    ],
    "deepnote_to_be_reexecuted": false,
    "source_hash": "6c9b2385",
    "execution_start": 1639606822554,
    "execution_millis": 295,
    "deepnote_cell_type": "code"
   },
   "source": "scaled_data = scaler.transform(df.drop('Traffic Type',axis=1))\nscaled_data[0:5]",
   "outputs": [
    {
     "output_type": "execute_result",
     "execution_count": 38,
     "data": {
      "text/plain": "array([[-0.32772224, -0.32042476, -0.32742544, -0.16925758, -0.3201193 ,\n        -0.17085503, -0.57993453, -0.60731627, -0.5790938 , -0.65732533,\n        -0.60653805, -0.6566354 ],\n       [-0.2825666 , -0.26990078, -0.28211562, -0.16041405, -0.26942018,\n        -0.15993079, -0.57993453, -0.60731627, -0.5790938 , -0.65732533,\n        -0.60653805, -0.6566354 ],\n       [-0.2825666 , -0.26990078, -0.28211562, -0.16041405, -0.26942018,\n        -0.15993079, -0.57993453, -0.60731627, -0.5790938 , -0.65732533,\n        -0.60653805, -0.6566354 ],\n       [-0.2825666 , -0.26990078, -0.28211562, -0.16041405, -0.26942018,\n        -0.15993079, -0.57993453, -0.60731627, -0.5790938 , -0.65732533,\n        -0.60653805, -0.6566354 ],\n       [-0.2825666 , -0.26990078, -0.28211562, -0.16041405, -0.26942018,\n        -0.15993079, -0.55710582, -0.58612271, -0.55623395, -0.64279588,\n        -0.58532495, -0.6440325 ]])"
     },
     "metadata": {}
    }
   ],
   "execution_count": null
  },
  {
   "cell_type": "markdown",
   "source": "Here are the new means and standard deviation per feature.",
   "metadata": {
    "cell_id": "00067-7eeb92e5-b158-4539-9a37-c6ca617d0562",
    "deepnote_cell_type": "markdown"
   }
  },
  {
   "cell_type": "code",
   "metadata": {
    "collapsed": false,
    "cell_id": "00068-61349ea2-f0ec-4876-a4ef-7259842d6a06",
    "deepnote_output_heights": [
     59.59375
    ],
    "deepnote_to_be_reexecuted": false,
    "source_hash": "ce25775a",
    "execution_start": 1639606822555,
    "execution_millis": 294,
    "deepnote_cell_type": "code"
   },
   "source": "scaled_data.mean(axis=0)",
   "outputs": [
    {
     "output_type": "execute_result",
     "execution_count": 39,
     "data": {
      "text/plain": "array([ 6.38905461e-18, -2.23616911e-17, -6.06960188e-17,  6.38905461e-18,\n        6.38905461e-18, -2.87507457e-17,  5.11124369e-17, -5.11124369e-17,\n        7.66686553e-17,  0.00000000e+00, -1.02224874e-16, -7.66686553e-17])"
     },
     "metadata": {}
    }
   ],
   "execution_count": null
  },
  {
   "cell_type": "code",
   "metadata": {
    "collapsed": false,
    "cell_id": "00069-78170261-10eb-4ff8-b222-7d9c4b769070",
    "deepnote_output_heights": [
     21.1875
    ],
    "deepnote_to_be_reexecuted": false,
    "source_hash": "24cb915d",
    "execution_start": 1639606822555,
    "execution_millis": 294,
    "deepnote_cell_type": "code"
   },
   "source": "scaled_data.std(axis=0)",
   "outputs": [
    {
     "output_type": "execute_result",
     "execution_count": 40,
     "data": {
      "text/plain": "array([1., 1., 1., 1., 1., 1., 1., 1., 1., 1., 1., 1.])"
     },
     "metadata": {}
    }
   ],
   "execution_count": null
  },
  {
   "cell_type": "markdown",
   "source": "Now we will fit PCA model to the data. We will specify n_components=2, because we only want the first 2 principal components.",
   "metadata": {
    "cell_id": "00070-9f7f4525-50eb-4c75-991b-d6c30b4952bd",
    "deepnote_cell_type": "markdown"
   }
  },
  {
   "cell_type": "code",
   "metadata": {
    "collapsed": false,
    "cell_id": "00071-e355a636-6890-4088-8dda-7196d61f71a5",
    "deepnote_output_heights": [
     21.1875
    ],
    "deepnote_to_be_reexecuted": false,
    "source_hash": "3475a71f",
    "execution_start": 1639606822613,
    "execution_millis": 237,
    "deepnote_cell_type": "code"
   },
   "source": "pca = PCA(n_components=2)\npca.fit(scaled_data)",
   "outputs": [
    {
     "output_type": "execute_result",
     "execution_count": 41,
     "data": {
      "text/plain": "PCA(n_components=2)"
     },
     "metadata": {}
    }
   ],
   "execution_count": null
  },
  {
   "cell_type": "code",
   "metadata": {
    "collapsed": false,
    "cell_id": "00072-b01bf61f-ee4f-4392-8b7f-b012a1d4b2ac",
    "deepnote_output_heights": [
     21.1875
    ],
    "deepnote_to_be_reexecuted": false,
    "source_hash": "a1f2dea6",
    "execution_start": 1639606822614,
    "execution_millis": 237,
    "deepnote_cell_type": "code"
   },
   "source": "scaled_data.shape",
   "outputs": [
    {
     "output_type": "execute_result",
     "execution_count": 42,
     "data": {
      "text/plain": "(8897, 12)"
     },
     "metadata": {}
    }
   ],
   "execution_count": null
  },
  {
   "cell_type": "code",
   "metadata": {
    "collapsed": true,
    "cell_id": "00073-bd7201f0-8861-4781-9d5b-de768289cdaf",
    "deepnote_to_be_reexecuted": false,
    "source_hash": "14ff687c",
    "execution_start": 1639606822659,
    "execution_millis": 1,
    "deepnote_cell_type": "code"
   },
   "source": "x_pca = pca.transform(scaled_data)",
   "outputs": [],
   "execution_count": null
  },
  {
   "cell_type": "code",
   "metadata": {
    "collapsed": false,
    "cell_id": "00074-84085717-f241-4b87-8d6c-bd5cd5ff8d55",
    "deepnote_output_heights": [
     21.1875
    ],
    "deepnote_to_be_reexecuted": false,
    "source_hash": "d1f9b9b2",
    "execution_start": 1639606822701,
    "execution_millis": 152,
    "deepnote_cell_type": "code"
   },
   "source": "x_pca.shape",
   "outputs": [
    {
     "output_type": "execute_result",
     "execution_count": 44,
     "data": {
      "text/plain": "(8897, 2)"
     },
     "metadata": {}
    }
   ],
   "execution_count": null
  },
  {
   "cell_type": "markdown",
   "source": "#### Explained Variance",
   "metadata": {
    "cell_id": "00075-5d21e565-4254-4221-b4ad-9755efd8f593",
    "deepnote_cell_type": "markdown"
   }
  },
  {
   "cell_type": "code",
   "metadata": {
    "collapsed": false,
    "cell_id": "00076-5f279439-1971-4371-8ebe-130f9fdbb4cb",
    "deepnote_output_heights": [
     21.1875
    ],
    "deepnote_to_be_reexecuted": false,
    "source_hash": "e1bd05f4",
    "execution_start": 1639606822703,
    "execution_millis": 0,
    "deepnote_cell_type": "code"
   },
   "source": "pca.explained_variance_ratio_",
   "outputs": [
    {
     "output_type": "execute_result",
     "execution_count": 45,
     "data": {
      "text/plain": "array([0.47680554, 0.33432945])"
     },
     "metadata": {}
    }
   ],
   "execution_count": null
  },
  {
   "cell_type": "code",
   "metadata": {
    "collapsed": false,
    "cell_id": "00077-1e650d5c-91d4-426d-8357-5ee4e723eacf",
    "deepnote_output_heights": [
     21.1875
    ],
    "deepnote_to_be_reexecuted": false,
    "source_hash": "f3778dcd",
    "execution_start": 1639606822746,
    "execution_millis": 6066028,
    "deepnote_cell_type": "code"
   },
   "source": "pca.explained_variance_ratio_.sum()*100",
   "outputs": [
    {
     "output_type": "execute_result",
     "execution_count": 46,
     "data": {
      "text/plain": "81.11349942117003"
     },
     "metadata": {}
    }
   ],
   "execution_count": null
  },
  {
   "cell_type": "markdown",
   "source": "From above you can see that our first 2 principal components explain 84.16% of the variance in our data. We can get higher variance explained by increasing the number of principal components to a maximum of 100% with n_components = n_features.",
   "metadata": {
    "cell_id": "00078-7cb7f57a-1999-4057-b978-5b2af55ccb0f",
    "deepnote_cell_type": "markdown"
   }
  },
  {
   "cell_type": "markdown",
   "source": "#### Plotting the principal components",
   "metadata": {
    "cell_id": "00079-796a699f-cfe8-45cb-852f-ff584530f997",
    "deepnote_cell_type": "markdown"
   }
  },
  {
   "cell_type": "code",
   "metadata": {
    "collapsed": false,
    "cell_id": "00080-77b41beb-b43d-453b-b138-355e42d002d0",
    "deepnote_output_heights": [
     21.1875,
     381
    ],
    "deepnote_to_be_reexecuted": false,
    "source_hash": "6e97e7c5",
    "execution_start": 1639606822747,
    "execution_millis": 1305,
    "deepnote_cell_type": "code"
   },
   "source": "fig = plt.figure(figsize=(10,6))\nsns.scatterplot(x_pca[:,0], x_pca[:,1], hue=df['Traffic Type'])\nplt.xlabel('First Principal Component', fontsize=15)\nplt.ylabel('Second Principal Component', fontsize=15)\nplt.legend(fontsize=15)",
   "outputs": [
    {
     "output_type": "execute_result",
     "execution_count": 47,
     "data": {
      "text/plain": "<matplotlib.legend.Legend at 0x7fd5d0e28750>"
     },
     "metadata": {}
    },
    {
     "data": {
      "text/plain": "<Figure size 720x432 with 1 Axes>",
      "image/png": "[encoded data removed]"
     },
     "metadata": {
      "needs_background": "light",
      "image/png": {
       "width": 622,
       "height": 376
      }
     },
     "output_type": "display_data"
    }
   ],
   "execution_count": null
  },
  {
   "cell_type": "markdown",
   "source": "From this plot, we can see voice and ping are easy to identify using first 2 principle components. Ping and DNS are difficult. That is why we use all the features in our data not just first two components. ",
   "metadata": {
    "cell_id": "00081-720d5985-79f2-4f0b-841c-c14177aefe3a",
    "deepnote_cell_type": "markdown"
   }
  },
  {
   "cell_type": "markdown",
   "source": "#### Decision Boundary w/ PCA\nThe decision boundary is where the model switches from predicting one class to another. For visual representation purposes, we will again use the principal components we computed above for training. This way we can train a model with 2 features, and visualize the decision boundary in 2D space. However, the real model will use all the features and so the decision boundary may be different. \n\nWe will follow the same steps as above for training a model. We use the coded y as the contour plot that we use below prefers numerical values.",
   "metadata": {
    "cell_id": "00082-3770cde8-5a05-4931-817c-16abd7dcbfac",
    "deepnote_cell_type": "markdown"
   }
  },
  {
   "cell_type": "code",
   "metadata": {
    "collapsed": false,
    "cell_id": "00083-12ce6e82-e71e-41dc-9a71-f34a9f81e51a",
    "deepnote_to_be_reexecuted": false,
    "source_hash": "98ddcc63",
    "execution_start": 1639606824101,
    "execution_millis": 1,
    "deepnote_cell_type": "code"
   },
   "source": "X_train, X_test, y_train, y_test = train_test_split(x_pca,y.cat.codes,test_size=0.3, random_state=101)",
   "outputs": [],
   "execution_count": null
  },
  {
   "cell_type": "code",
   "metadata": {
    "collapsed": false,
    "cell_id": "00084-291b6b45-844e-4b0d-b248-e227e0c846e6",
    "deepnote_output_heights": [
     21.1875
    ],
    "deepnote_to_be_reexecuted": false,
    "source_hash": "37b1e586",
    "execution_start": 1639606824102,
    "execution_millis": 370,
    "deepnote_cell_type": "code"
   },
   "source": "model = LogisticRegression()\nmodel.fit(X_train,y_train)",
   "outputs": [
    {
     "output_type": "execute_result",
     "execution_count": 49,
     "data": {
      "text/plain": "LogisticRegression()"
     },
     "metadata": {}
    }
   ],
   "execution_count": null
  },
  {
   "cell_type": "markdown",
   "source": "As discussed above, the accuracy value is lower when we only use the first 2 principle components as opposed to the full set of features. Again, this is just for visualization purposes.",
   "metadata": {
    "cell_id": "00085-367fac1a-e2a0-4f0a-998c-d5894389ed7f",
    "deepnote_cell_type": "markdown"
   }
  },
  {
   "cell_type": "code",
   "metadata": {
    "collapsed": false,
    "cell_id": "00086-0885ec22-7a24-49bb-8b37-46ea4cc22104",
    "deepnote_to_be_reexecuted": false,
    "source_hash": "ad1a5eda",
    "execution_start": 1639606824464,
    "execution_millis": 8,
    "deepnote_cell_type": "code"
   },
   "source": "predictions = model.predict(X_test)\nprint('Accuracy: %.2f%%' % (accuracy_score(predictions,y_test)*100))",
   "outputs": [
    {
     "name": "stdout",
     "text": "Accuracy: 83.03%\n",
     "output_type": "stream",
     "data": {}
    }
   ],
   "execution_count": null
  },
  {
   "cell_type": "markdown",
   "source": "#### Plotting\nWe will first generate a grid of x[0] and x[1] values that we will use to make predictions with.",
   "metadata": {
    "cell_id": "00087-a9fc93dc-d4f2-4998-930a-185d734ef48e",
    "deepnote_cell_type": "markdown"
   }
  },
  {
   "cell_type": "code",
   "metadata": {
    "collapsed": true,
    "cell_id": "00088-527c6939-e5e0-4335-8258-8c56a5a22ab1",
    "deepnote_to_be_reexecuted": false,
    "source_hash": "501529e1",
    "execution_start": 1639606824469,
    "execution_millis": 12,
    "deepnote_cell_type": "code"
   },
   "source": "x_min = x_pca[:,0].min()\nx_max = x_pca[:,0].max()\ny_min = x_pca[:,1].min()\ny_max = x_pca[:,1].max()\nspacing = 0.01",
   "outputs": [],
   "execution_count": null
  },
  {
   "cell_type": "code",
   "metadata": {
    "collapsed": false,
    "cell_id": "00089-b4011c6b-9473-45f3-8859-4fe762e827d8",
    "deepnote_to_be_reexecuted": false,
    "source_hash": "2c4ff357",
    "execution_start": 1639606824482,
    "execution_millis": 29,
    "deepnote_cell_type": "code"
   },
   "source": "xx, yy = np.meshgrid(np.arange(x_min, x_max, spacing), np.arange(y_min, y_max, spacing))",
   "outputs": [],
   "execution_count": null
  },
  {
   "cell_type": "markdown",
   "source": "Now we will make predictions on the grid that we created. The `ravel` function just makes the 2D array that we have above into a 1D array. We will reshape the predictions Z into a 2D array afterwards for plotting",
   "metadata": {
    "cell_id": "00090-b6216e0f-3718-4581-bb13-de768068d05f",
    "deepnote_cell_type": "markdown"
   }
  },
  {
   "cell_type": "code",
   "metadata": {
    "collapsed": false,
    "cell_id": "00091-01d84461-40be-45c1-9b2a-ef33ee682ae5",
    "deepnote_to_be_reexecuted": false,
    "source_hash": "bb5fc48d",
    "execution_start": 1639606824523,
    "execution_millis": 450,
    "deepnote_cell_type": "code"
   },
   "source": "Z = model.predict(np.c_[xx.ravel(), yy.ravel()])\nZ = Z.reshape(xx.shape)",
   "outputs": [],
   "execution_count": null
  },
  {
   "cell_type": "markdown",
   "source": "Now we will plot the data, and the decision boundaries.",
   "metadata": {
    "cell_id": "00092-33e46485-32f3-464a-9160-482d83834cba",
    "deepnote_cell_type": "markdown"
   }
  },
  {
   "cell_type": "code",
   "metadata": {
    "collapsed": false,
    "cell_id": "00093-9c1eefac-5434-4527-bff8-e7b5ba973374",
    "deepnote_output_heights": [
     21.1875,
     397.71875
    ],
    "deepnote_to_be_reexecuted": false,
    "source_hash": "19820b8b",
    "execution_start": 1639606825003,
    "execution_millis": 1630,
    "deepnote_cell_type": "code"
   },
   "source": "plt.figure(figsize=(10,6))\nplt.contourf(xx, yy, Z, cmap=plt.cm.Spectral)\nsns.scatterplot(x_pca[:,0], x_pca[:,1], hue=df['Traffic Type'], cmap=plt.cm.Spectral)\nplt.title('Decision Boundaries', fontsize=15)\nplt.xlabel('First Principal Component', fontsize=15)\nplt.ylabel('Second Principal Component', fontsize=15)\nplt.tight_layout()\nplt.xlim([x_min,x_max])\nplt.ylim([y_min,y_max])\nplt.legend(fontsize=15)",
   "outputs": [
    {
     "output_type": "execute_result",
     "execution_count": 54,
     "data": {
      "text/plain": "<matplotlib.legend.Legend at 0x7fd5d028cb10>"
     },
     "metadata": {}
    },
    {
     "data": {
      "text/plain": "<Figure size 720x432 with 1 Axes>",
      "image/png": "[encoded data removed]"
     },
     "metadata": {
      "needs_background": "light",
      "image/png": {
       "width": 715,
       "height": 424
      }
     },
     "output_type": "display_data"
    }
   ],
   "execution_count": null
  },
  {
   "cell_type": "markdown",
   "source": "From the above you can see the decision splits. Voice and Telnet traffic are easily classifiable. Ping and DNS are harder to distinguish with only 2 components. ",
   "metadata": {
    "cell_id": "00094-c38474e0-76fc-4bab-a997-e83ae963d87c",
    "deepnote_cell_type": "markdown"
   }
  },
  {
   "cell_type": "markdown",
   "source": "## <a name=\"E2\"> 3. Unsupervised Model - K-Means Clustering",
   "metadata": {
    "cell_id": "00095-c87dcf57-3852-4509-a151-d38049330661",
    "deepnote_cell_type": "markdown"
   }
  },
  {
   "cell_type": "markdown",
   "source": "Now we will train a K-means clustering model on this dataset.",
   "metadata": {
    "cell_id": "00096-5e9e5269-545d-4e12-afe3-61b452d51ffd",
    "deepnote_cell_type": "markdown"
   }
  },
  {
   "cell_type": "markdown",
   "source": "#### Build model\nHere we will build a `sklearn KMeans` model with 4 possible clusters for each type of traffic:",
   "metadata": {
    "cell_id": "00097-4b8dca71-5f91-4aa2-97b9-87fbaea26d9b",
    "deepnote_cell_type": "markdown"
   }
  },
  {
   "cell_type": "code",
   "metadata": {
    "cell_id": "00098-f9f394bd-52e5-48e1-82b9-50864283a1f3",
    "deepnote_to_be_reexecuted": false,
    "source_hash": "35c227cb",
    "execution_start": 1639606826645,
    "execution_millis": 0,
    "deepnote_cell_type": "code"
   },
   "source": "X = df.drop('Traffic Type',axis=1)\ny = df['Traffic Type']",
   "outputs": [],
   "execution_count": null
  },
  {
   "cell_type": "code",
   "metadata": {
    "cell_id": "00099-0f43941d-24e7-4af5-b103-8a2a6f41d2ad",
    "deepnote_to_be_reexecuted": false,
    "source_hash": "399d3485",
    "execution_start": 1639606826661,
    "execution_millis": 8,
    "deepnote_cell_type": "code"
   },
   "source": "model = KMeans(n_clusters=len(y.cat.categories))",
   "outputs": [],
   "execution_count": null
  },
  {
   "cell_type": "markdown",
   "source": "#### Train & predict",
   "metadata": {
    "cell_id": "00100-a1911fba-8d01-46f8-a3e4-286bd630e2c2",
    "deepnote_cell_type": "markdown"
   }
  },
  {
   "cell_type": "code",
   "metadata": {
    "cell_id": "00101-92fe177f-7233-4426-a82d-ac1b582ea29d",
    "deepnote_to_be_reexecuted": false,
    "source_hash": "e411540f",
    "execution_start": 1639606826670,
    "execution_millis": 228,
    "deepnote_cell_type": "code"
   },
   "source": "clusters = model.fit_predict(X)",
   "outputs": [],
   "execution_count": null
  },
  {
   "cell_type": "markdown",
   "source": "#### Evaluate generated clusters",
   "metadata": {
    "cell_id": "00102-9109dcb2-4fbb-4ba5-b4ec-719e5b5cfabc",
    "deepnote_cell_type": "markdown"
   }
  },
  {
   "cell_type": "markdown",
   "source": "#### Shape of clusters",
   "metadata": {
    "cell_id": "00103-5b84c352-fc58-41e2-8a3e-c7202596f0ef",
    "deepnote_cell_type": "markdown"
   }
  },
  {
   "cell_type": "code",
   "metadata": {
    "cell_id": "00104-8f38dfde-8126-45f8-84a6-daca5cb1cbe7",
    "deepnote_output_heights": [
     21.1875
    ],
    "deepnote_to_be_reexecuted": false,
    "source_hash": "24498caf",
    "execution_start": 1639606826899,
    "execution_millis": 20,
    "deepnote_cell_type": "code"
   },
   "source": "model.cluster_centers_.shape",
   "outputs": [
    {
     "output_type": "execute_result",
     "execution_count": 58,
     "data": {
      "text/plain": "(6, 12)"
     },
     "metadata": {}
    }
   ],
   "execution_count": null
  },
  {
   "cell_type": "markdown",
   "source": "We see that there are 4 clusters in 12 dimensions. ",
   "metadata": {
    "cell_id": "00105-e91670d2-a6f9-4988-9396-6d1faea5e8cf",
    "deepnote_cell_type": "markdown"
   }
  },
  {
   "cell_type": "markdown",
   "source": "#### Visualize clusters\nLet's visualize each of these cluster centers to see what they represent. The 12 size vector is reshaped into a 4x3, and visualized using matplotlib.",
   "metadata": {
    "cell_id": "00106-7b36fc6d-4090-47b9-8965-f006362f376e",
    "deepnote_cell_type": "markdown"
   }
  },
  {
   "cell_type": "code",
   "metadata": {
    "cell_id": "00107-261cd88d-df75-4f1a-bcec-0022911f8240",
    "deepnote_output_heights": [
     null,
     141
    ],
    "deepnote_to_be_reexecuted": false,
    "source_hash": "82d4ee7c",
    "execution_start": 1639606826931,
    "execution_millis": 892,
    "deepnote_cell_type": "code"
   },
   "source": "fig = plt.figure(figsize=(8, 3))\nfor i in range(len(y.cat.categories)):\n    ax = fig.add_subplot(2, 2, 1 + i, xticks=[], yticks=[])\n    ax.set_title(str(y.cat.categories[i]))\n    ax.imshow(model.cluster_centers_[i].reshape((1, 12)), cmap=plt.cm.binary)",
   "outputs": [
    {
     "output_type": "error",
     "ename": "ValueError",
     "evalue": "num must be 1 <= num <= 4, not 5",
     "traceback": [
      "\u001b[0;31m---------------------------------------------------------------------------\u001b[0m",
      "\u001b[0;31mValueError\u001b[0m                                Traceback (most recent call last)",
      "\u001b[0;32m<ipython-input-59-fc805643fdc8>\u001b[0m in \u001b[0;36m<module>\u001b[0;34m\u001b[0m\n\u001b[1;32m      1\u001b[0m \u001b[0mfig\u001b[0m \u001b[0;34m=\u001b[0m \u001b[0mplt\u001b[0m\u001b[0;34m.\u001b[0m\u001b[0mfigure\u001b[0m\u001b[0;34m(\u001b[0m\u001b[0mfigsize\u001b[0m\u001b[0;34m=\u001b[0m\u001b[0;34m(\u001b[0m\u001b[0;36m8\u001b[0m\u001b[0;34m,\u001b[0m \u001b[0;36m3\u001b[0m\u001b[0;34m)\u001b[0m\u001b[0;34m)\u001b[0m\u001b[0;34m\u001b[0m\u001b[0;34m\u001b[0m\u001b[0m\n\u001b[1;32m      2\u001b[0m \u001b[0;32mfor\u001b[0m \u001b[0mi\u001b[0m \u001b[0;32min\u001b[0m \u001b[0mrange\u001b[0m\u001b[0;34m(\u001b[0m\u001b[0mlen\u001b[0m\u001b[0;34m(\u001b[0m\u001b[0my\u001b[0m\u001b[0;34m.\u001b[0m\u001b[0mcat\u001b[0m\u001b[0;34m.\u001b[0m\u001b[0mcategories\u001b[0m\u001b[0;34m)\u001b[0m\u001b[0;34m)\u001b[0m\u001b[0;34m:\u001b[0m\u001b[0;34m\u001b[0m\u001b[0;34m\u001b[0m\u001b[0m\n\u001b[0;32m----> 3\u001b[0;31m     \u001b[0max\u001b[0m \u001b[0;34m=\u001b[0m \u001b[0mfig\u001b[0m\u001b[0;34m.\u001b[0m\u001b[0madd_subplot\u001b[0m\u001b[0;34m(\u001b[0m\u001b[0;36m2\u001b[0m\u001b[0;34m,\u001b[0m \u001b[0;36m2\u001b[0m\u001b[0;34m,\u001b[0m \u001b[0;36m1\u001b[0m \u001b[0;34m+\u001b[0m \u001b[0mi\u001b[0m\u001b[0;34m,\u001b[0m \u001b[0mxticks\u001b[0m\u001b[0;34m=\u001b[0m\u001b[0;34m[\u001b[0m\u001b[0;34m]\u001b[0m\u001b[0;34m,\u001b[0m \u001b[0myticks\u001b[0m\u001b[0;34m=\u001b[0m\u001b[0;34m[\u001b[0m\u001b[0;34m]\u001b[0m\u001b[0;34m)\u001b[0m\u001b[0;34m\u001b[0m\u001b[0;34m\u001b[0m\u001b[0m\n\u001b[0m\u001b[1;32m      4\u001b[0m     \u001b[0max\u001b[0m\u001b[0;34m.\u001b[0m\u001b[0mset_title\u001b[0m\u001b[0;34m(\u001b[0m\u001b[0mstr\u001b[0m\u001b[0;34m(\u001b[0m\u001b[0my\u001b[0m\u001b[0;34m.\u001b[0m\u001b[0mcat\u001b[0m\u001b[0;34m.\u001b[0m\u001b[0mcategories\u001b[0m\u001b[0;34m[\u001b[0m\u001b[0mi\u001b[0m\u001b[0;34m]\u001b[0m\u001b[0;34m)\u001b[0m\u001b[0;34m)\u001b[0m\u001b[0;34m\u001b[0m\u001b[0;34m\u001b[0m\u001b[0m\n\u001b[1;32m      5\u001b[0m     \u001b[0max\u001b[0m\u001b[0;34m.\u001b[0m\u001b[0mimshow\u001b[0m\u001b[0;34m(\u001b[0m\u001b[0mmodel\u001b[0m\u001b[0;34m.\u001b[0m\u001b[0mcluster_centers_\u001b[0m\u001b[0;34m[\u001b[0m\u001b[0mi\u001b[0m\u001b[0;34m]\u001b[0m\u001b[0;34m.\u001b[0m\u001b[0mreshape\u001b[0m\u001b[0;34m(\u001b[0m\u001b[0;34m(\u001b[0m\u001b[0;36m1\u001b[0m\u001b[0;34m,\u001b[0m \u001b[0;36m12\u001b[0m\u001b[0;34m)\u001b[0m\u001b[0;34m)\u001b[0m\u001b[0;34m,\u001b[0m \u001b[0mcmap\u001b[0m\u001b[0;34m=\u001b[0m\u001b[0mplt\u001b[0m\u001b[0;34m.\u001b[0m\u001b[0mcm\u001b[0m\u001b[0;34m.\u001b[0m\u001b[0mbinary\u001b[0m\u001b[0;34m)\u001b[0m\u001b[0;34m\u001b[0m\u001b[0;34m\u001b[0m\u001b[0m\n",
      "\u001b[0;32m/shared-libs/python3.7/py/lib/python3.7/site-packages/matplotlib/figure.py\u001b[0m in \u001b[0;36madd_subplot\u001b[0;34m(self, *args, **kwargs)\u001b[0m\n\u001b[1;32m    770\u001b[0m             projection_class, pkw = self._process_projection_requirements(\n\u001b[1;32m    771\u001b[0m                 *args, **kwargs)\n\u001b[0;32m--> 772\u001b[0;31m             \u001b[0max\u001b[0m \u001b[0;34m=\u001b[0m \u001b[0msubplot_class_factory\u001b[0m\u001b[0;34m(\u001b[0m\u001b[0mprojection_class\u001b[0m\u001b[0;34m)\u001b[0m\u001b[0;34m(\u001b[0m\u001b[0mself\u001b[0m\u001b[0;34m,\u001b[0m \u001b[0;34m*\u001b[0m\u001b[0margs\u001b[0m\u001b[0;34m,\u001b[0m \u001b[0;34m**\u001b[0m\u001b[0mpkw\u001b[0m\u001b[0;34m)\u001b[0m\u001b[0;34m\u001b[0m\u001b[0;34m\u001b[0m\u001b[0m\n\u001b[0m\u001b[1;32m    773\u001b[0m             \u001b[0mkey\u001b[0m \u001b[0;34m=\u001b[0m \u001b[0;34m(\u001b[0m\u001b[0mprojection_class\u001b[0m\u001b[0;34m,\u001b[0m \u001b[0mpkw\u001b[0m\u001b[0;34m)\u001b[0m\u001b[0;34m\u001b[0m\u001b[0;34m\u001b[0m\u001b[0m\n\u001b[1;32m    774\u001b[0m         \u001b[0;32mreturn\u001b[0m \u001b[0mself\u001b[0m\u001b[0;34m.\u001b[0m\u001b[0m_add_axes_internal\u001b[0m\u001b[0;34m(\u001b[0m\u001b[0max\u001b[0m\u001b[0;34m,\u001b[0m \u001b[0mkey\u001b[0m\u001b[0;34m)\u001b[0m\u001b[0;34m\u001b[0m\u001b[0;34m\u001b[0m\u001b[0m\n",
      "\u001b[0;32m/shared-libs/python3.7/py/lib/python3.7/site-packages/matplotlib/axes/_subplots.py\u001b[0m in \u001b[0;36m__init__\u001b[0;34m(self, fig, *args, **kwargs)\u001b[0m\n\u001b[1;32m     34\u001b[0m         \u001b[0mself\u001b[0m\u001b[0;34m.\u001b[0m\u001b[0m_axes_class\u001b[0m\u001b[0;34m.\u001b[0m\u001b[0m__init__\u001b[0m\u001b[0;34m(\u001b[0m\u001b[0mself\u001b[0m\u001b[0;34m,\u001b[0m \u001b[0mfig\u001b[0m\u001b[0;34m,\u001b[0m \u001b[0;34m[\u001b[0m\u001b[0;36m0\u001b[0m\u001b[0;34m,\u001b[0m \u001b[0;36m0\u001b[0m\u001b[0;34m,\u001b[0m \u001b[0;36m1\u001b[0m\u001b[0;34m,\u001b[0m \u001b[0;36m1\u001b[0m\u001b[0;34m]\u001b[0m\u001b[0;34m,\u001b[0m \u001b[0;34m**\u001b[0m\u001b[0mkwargs\u001b[0m\u001b[0;34m)\u001b[0m\u001b[0;34m\u001b[0m\u001b[0;34m\u001b[0m\u001b[0m\n\u001b[1;32m     35\u001b[0m         \u001b[0;31m# This will also update the axes position.\u001b[0m\u001b[0;34m\u001b[0m\u001b[0;34m\u001b[0m\u001b[0;34m\u001b[0m\u001b[0m\n\u001b[0;32m---> 36\u001b[0;31m         \u001b[0mself\u001b[0m\u001b[0;34m.\u001b[0m\u001b[0mset_subplotspec\u001b[0m\u001b[0;34m(\u001b[0m\u001b[0mSubplotSpec\u001b[0m\u001b[0;34m.\u001b[0m\u001b[0m_from_subplot_args\u001b[0m\u001b[0;34m(\u001b[0m\u001b[0mfig\u001b[0m\u001b[0;34m,\u001b[0m \u001b[0margs\u001b[0m\u001b[0;34m)\u001b[0m\u001b[0;34m)\u001b[0m\u001b[0;34m\u001b[0m\u001b[0;34m\u001b[0m\u001b[0m\n\u001b[0m\u001b[1;32m     37\u001b[0m \u001b[0;34m\u001b[0m\u001b[0m\n\u001b[1;32m     38\u001b[0m     @_api.deprecated(\n",
      "\u001b[0;32m/shared-libs/python3.7/py/lib/python3.7/site-packages/matplotlib/gridspec.py\u001b[0m in \u001b[0;36m_from_subplot_args\u001b[0;34m(figure, args)\u001b[0m\n\u001b[1;32m    607\u001b[0m             \u001b[0;32mif\u001b[0m \u001b[0;32mnot\u001b[0m \u001b[0misinstance\u001b[0m\u001b[0;34m(\u001b[0m\u001b[0mnum\u001b[0m\u001b[0;34m,\u001b[0m \u001b[0mIntegral\u001b[0m\u001b[0;34m)\u001b[0m \u001b[0;32mor\u001b[0m \u001b[0mnum\u001b[0m \u001b[0;34m<\u001b[0m \u001b[0;36m1\u001b[0m \u001b[0;32mor\u001b[0m \u001b[0mnum\u001b[0m \u001b[0;34m>\u001b[0m \u001b[0mrows\u001b[0m\u001b[0;34m*\u001b[0m\u001b[0mcols\u001b[0m\u001b[0;34m:\u001b[0m\u001b[0;34m\u001b[0m\u001b[0;34m\u001b[0m\u001b[0m\n\u001b[1;32m    608\u001b[0m                 raise ValueError(\n\u001b[0;32m--> 609\u001b[0;31m                     f\"num must be 1 <= num <= {rows*cols}, not {num!r}\")\n\u001b[0m\u001b[1;32m    610\u001b[0m             \u001b[0mi\u001b[0m \u001b[0;34m=\u001b[0m \u001b[0mj\u001b[0m \u001b[0;34m=\u001b[0m \u001b[0mnum\u001b[0m\u001b[0;34m\u001b[0m\u001b[0;34m\u001b[0m\u001b[0m\n\u001b[1;32m    611\u001b[0m         \u001b[0;32mreturn\u001b[0m \u001b[0mgs\u001b[0m\u001b[0;34m[\u001b[0m\u001b[0mi\u001b[0m\u001b[0;34m-\u001b[0m\u001b[0;36m1\u001b[0m\u001b[0;34m:\u001b[0m\u001b[0mj\u001b[0m\u001b[0;34m]\u001b[0m\u001b[0;34m\u001b[0m\u001b[0;34m\u001b[0m\u001b[0m\n",
      "\u001b[0;31mValueError\u001b[0m: num must be 1 <= num <= 4, not 5"
     ],
     "data": {}
    },
    {
     "data": {
      "text/plain": "<Figure size 576x216 with 4 Axes>",
      "image/png": "[encoded data removed]"
     },
     "metadata": {
      "image/png": {
       "width": 464,
       "height": 139
      }
     },
     "output_type": "display_data"
    }
   ],
   "execution_count": null
  },
  {
   "cell_type": "markdown",
   "source": "From the above we can see which features Kmeans looks for to differentiate the traffic types",
   "metadata": {
    "cell_id": "00108-2d306e58-2c68-4e9d-8090-ec5f23d677e3",
    "deepnote_cell_type": "markdown"
   }
  },
  {
   "cell_type": "markdown",
   "source": "#### Evaluate accuracy of model",
   "metadata": {
    "cell_id": "00109-563b8eaf-a4af-4859-abe0-65f900c9a802",
    "deepnote_cell_type": "markdown"
   }
  },
  {
   "cell_type": "code",
   "metadata": {
    "cell_id": "00110-961c7dd6-6dfc-4998-9971-eaf4e611f3d5",
    "deepnote_output_heights": [
     97.984375
    ],
    "deepnote_to_be_reexecuted": true,
    "source_hash": "fedf7493",
    "execution_start": 1639600760051,
    "execution_millis": 12,
    "deepnote_cell_type": "code"
   },
   "source": "df['Traffic Type'].value_counts()",
   "outputs": [
    {
     "output_type": "execute_result",
     "execution_count": 54,
     "data": {
      "text/plain": "ping      1770\ntelnet    1181\ndns       1154\nvoice     1137\nName: Traffic Type, dtype: int64"
     },
     "metadata": {}
    }
   ],
   "execution_count": null
  },
  {
   "cell_type": "code",
   "metadata": {
    "cell_id": "00115-8efac875-da36-45f8-8a9b-88308d3a9db9",
    "deepnote_to_be_reexecuted": true,
    "source_hash": "485ca86",
    "execution_start": 1639600760062,
    "execution_millis": 55,
    "deepnote_cell_type": "code"
   },
   "source": "strlabels = ['']*len(y)\nfor i in range(len(clusters)):\n    if clusters[i]==0: strlabels[i] = 'dns'\n    elif clusters[i]==1: strlabels[i] = 'ping'\n    elif clusters[i]==2: strlabels[i] = 'telnet'\n    elif clusters[i]==3: strlabels[i] = 'voice'",
   "outputs": [],
   "execution_count": null
  },
  {
   "cell_type": "markdown",
   "source": "Accuracy:",
   "metadata": {
    "cell_id": "00116-eb8e0fb4-a058-4980-9f18-9e6500a2673c",
    "deepnote_cell_type": "markdown"
   }
  },
  {
   "cell_type": "code",
   "metadata": {
    "cell_id": "00117-2b5795aa-3cdc-46a3-9634-e57b4984a7eb",
    "deepnote_output_heights": [
     21.1875
    ],
    "deepnote_to_be_reexecuted": true,
    "source_hash": "211644bc",
    "execution_start": 1639600760126,
    "execution_millis": 16,
    "deepnote_cell_type": "code"
   },
   "source": "from sklearn.metrics import accuracy_score\naccuracy_score(y, strlabels)*100.0",
   "outputs": [
    {
     "output_type": "execute_result",
     "execution_count": 56,
     "data": {
      "text/plain": "46.37542922548646"
     },
     "metadata": {}
    }
   ],
   "execution_count": null
  },
  {
   "cell_type": "markdown",
   "source": "The accuracy is very poor at just <b>%30.54</b>. With only 4 possible cluster labels, the model is pretty much guessing the right label. We will see why using PCA analysis",
   "metadata": {
    "cell_id": "00118-d2376fde-be0a-4edd-b352-01214ebd9df3",
    "deepnote_cell_type": "markdown"
   }
  },
  {
   "cell_type": "markdown",
   "source": "#### Plot results with PCA\nLet's use PCA visualization and look at the true cluster labels and the K-means cluster labels. PCA is a dimensionality reduction technique which will allow us to plot the results in 2D.",
   "metadata": {
    "cell_id": "00119-f671a786-cc16-4784-8714-b30b7751a860",
    "deepnote_cell_type": "markdown"
   }
  },
  {
   "cell_type": "markdown",
   "source": "Apply PCA to reduce dimensions to 2D:",
   "metadata": {
    "cell_id": "00120-c828f2e1-31df-4950-849a-0990dcdd6856",
    "deepnote_cell_type": "markdown"
   }
  },
  {
   "cell_type": "code",
   "metadata": {
    "cell_id": "00121-616425c1-0645-428d-972c-afecf2e2ee8c",
    "deepnote_to_be_reexecuted": true,
    "source_hash": "f2943292",
    "execution_start": 1639600760185,
    "execution_millis": 45,
    "deepnote_cell_type": "code"
   },
   "source": "from sklearn.decomposition import PCA\nX = PCA(2).fit_transform(X)",
   "outputs": [],
   "execution_count": null
  },
  {
   "cell_type": "markdown",
   "source": "Plot clusters from PCA and true labels:",
   "metadata": {
    "cell_id": "00122-c931cd7d-357c-45c7-9573-1c4d330d3c84",
    "deepnote_cell_type": "markdown"
   }
  },
  {
   "cell_type": "code",
   "metadata": {
    "cell_id": "00123-47740e86-03a7-4648-b44e-0a0d69edbc94",
    "deepnote_to_be_reexecuted": true,
    "source_hash": "e7d1c540",
    "execution_start": 1639600760230,
    "execution_millis": 1,
    "deepnote_cell_type": "code"
   },
   "source": "y_codes =  np.asarray(y.cat.codes)",
   "outputs": [],
   "execution_count": null
  },
  {
   "cell_type": "code",
   "metadata": {
    "cell_id": "00124-ef28d723-e818-4691-b2ed-590dd48da2a9",
    "deepnote_to_be_reexecuted": true,
    "source_hash": "72f62a71",
    "execution_start": 1639600760232,
    "execution_millis": 42,
    "deepnote_cell_type": "code"
   },
   "source": "labels = np.zeros_like(clusters) # Create an array of 0s with equal length ot the number of clusters\n\n# Set labels based on the modes of the target\nfor i in range(len(y.cat.categories)):\n    mask = (clusters == i)\n    labels[mask] = stats.mode(y_codes[mask])[0]\nprint (labels)",
   "outputs": [
    {
     "name": "stdout",
     "text": "[1 1 1 ... 1 1 1]\n",
     "output_type": "stream",
     "data": {}
    }
   ],
   "execution_count": null
  },
  {
   "cell_type": "code",
   "metadata": {
    "cell_id": "00125-3d3ea76e-9694-4c39-9690-c736de80ebbc",
    "deepnote_output_heights": [
     266
    ],
    "deepnote_to_be_reexecuted": true,
    "source_hash": "46a9615",
    "execution_start": 1639600760311,
    "execution_millis": 574,
    "deepnote_cell_type": "code"
   },
   "source": "kwargs = dict(cmap = plt.cm.get_cmap('rainbow', 4),\n              edgecolor='none', alpha=0.6)\nfig, ax = plt.subplots(1, 2, figsize=(8, 4))\nax[0].scatter(X[:, 0], X[:, 1], c=clusters, **kwargs)\nax[0].set_title('learned cluster labels')\n\nax[1].scatter(X[:, 0], X[:, 1], c=y_codes, **kwargs)\nax[1].set_title('true labels');",
   "outputs": [
    {
     "data": {
      "text/plain": "<Figure size 576x288 with 2 Axes>",
      "image/png": "[encoded data removed]"
     },
     "metadata": {
      "needs_background": "light",
      "image/png": {
       "width": 501,
       "height": 264
      }
     },
     "output_type": "display_data"
    }
   ],
   "execution_count": null
  },
  {
   "cell_type": "markdown",
   "source": "We can see here the the KMeans model is not labelling accurately. It is splitting voice into two labels and incorrectly labelling half of telnet flows. This is because KMeans works well with circular clusters and our traffic data appears to be more linear in shape. ",
   "metadata": {
    "cell_id": "00126-f8ee86f2-c70f-4860-8618-22c6855a73d4",
    "deepnote_cell_type": "markdown"
   }
  },
  {
   "cell_type": "markdown",
   "source": "#### Confusion Matrix",
   "metadata": {
    "cell_id": "00127-924c2722-8fc3-4954-9532-1158af8aac40",
    "deepnote_cell_type": "markdown"
   }
  },
  {
   "cell_type": "code",
   "metadata": {
    "cell_id": "00128-7f905b97-369f-458b-9eff-f809219ecc54",
    "deepnote_output_heights": [
     78.78125
    ],
    "deepnote_to_be_reexecuted": true,
    "source_hash": "50b38a8f",
    "execution_start": 1639600760897,
    "execution_millis": 30,
    "deepnote_cell_type": "code"
   },
   "source": "cm=confusion_matrix(y, strlabels, labels=['ping','voice','dns','telnet'])\ncm",
   "outputs": [
    {
     "output_type": "execute_result",
     "execution_count": 61,
     "data": {
      "text/plain": "array([[   0,    0, 1770,    0],\n       [ 152,  982,    3,    0],\n       [   0,    0, 1154,    0],\n       [  74,   26,  786,  295]])"
     },
     "metadata": {}
    }
   ],
   "execution_count": null
  },
  {
   "cell_type": "code",
   "metadata": {
    "cell_id": "00129-e25677c0-872b-4cdf-afbc-0a9e96fd16a3",
    "deepnote_output_heights": [
     353
    ],
    "deepnote_to_be_reexecuted": true,
    "source_hash": "f36812e2",
    "execution_start": 1639600760995,
    "execution_millis": 451,
    "deepnote_cell_type": "code"
   },
   "source": "plt.figure(figsize=(6,6))\nplt.imshow(cm, interpolation='nearest', cmap=plt.cm.Blues)\nplt.title('Confusion Matrix', fontsize=15)\nplt.colorbar()\ntick_marks = np.arange(len(y.unique()))\nplt.xticks(tick_marks, rotation=45, fontsize=12)\nplt.yticks(tick_marks,  fontsize=12)\nplt.xlabel('True Label', fontsize=15)\nplt.ylabel('Predicted Label', fontsize=15)\n\nfor i in range(len(cm)):\n    for j in range(len(cm[i])):\n        color = 'black'   \n        if cm[i][j] > 5:\n            color = 'white'\n        plt.text(j, i, format(cm[i][j]), \n                horizontalalignment='center',\n                color=color, fontsize=15)",
   "outputs": [
    {
     "data": {
      "text/plain": "<Figure size 432x432 with 2 Axes>",
      "image/png": "[encoded data removed]"
     },
     "metadata": {
      "needs_background": "light",
      "image/png": {
       "width": 381,
       "height": 351
      }
     },
     "output_type": "display_data"
    }
   ],
   "execution_count": null
  },
  {
   "cell_type": "markdown",
   "source": "The confusion matrix further shows how poorly our model performs. Usually we expect high numbers along the diagonal. ",
   "metadata": {
    "cell_id": "00130-bb4c3ea0-505a-424e-82da-5af6f07f606c",
    "deepnote_cell_type": "markdown"
   }
  },
  {
   "cell_type": "markdown",
   "source": "Dumping the model for real-time use later",
   "metadata": {
    "cell_id": "00131-c0a5536f-5f8a-4944-8834-f0dc601d2bb6",
    "deepnote_cell_type": "markdown"
   }
  },
  {
   "cell_type": "code",
   "metadata": {
    "cell_id": "00132-c0bc7ded-936a-451d-8755-edcc10956823",
    "deepnote_to_be_reexecuted": true,
    "source_hash": "4164186c",
    "execution_start": 1639600761461,
    "execution_millis": 1,
    "deepnote_cell_type": "code"
   },
   "source": "pickle.dump(model,open('KMeans_Clustering','wb'))",
   "outputs": [],
   "execution_count": null
  },
  {
   "cell_type": "code",
   "metadata": {
    "cell_id": "00133-e11df39a-c449-47e8-bbeb-e9132bbf5a83",
    "deepnote_to_be_reexecuted": true,
    "source_hash": "b623e53d",
    "execution_start": 1639600761471,
    "deepnote_cell_type": "code"
   },
   "source": "",
   "outputs": [],
   "execution_count": null
  },
  {
   "cell_type": "markdown",
   "source": "<a style='text-decoration:none;line-height:16px;display:flex;color:#5B5B62;padding:10px;justify-content:end;' href='https://deepnote.com?utm_source=created-in-deepnote-cell&projectId=0c140320-dfb6-438f-affb-c603f973d8fc' target=\"_blank\">\n<img alt='Created in deepnote.com' style='display:inline;max-height:16px;margin:0px;margin-right:7.5px;' src='data:image/svg+xml;base64,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' > </img>\nCreated in <span style='font-weight:600;margin-left:4px;'>Deepnote</span></a>",
   "metadata": {
    "tags": [],
    "created_in_deepnote_cell": true,
    "deepnote_cell_type": "markdown"
   }
  }
 ],
 "nbformat": 4,
 "nbformat_minor": 2,
 "metadata": {
  "kernelspec": {
   "display_name": "Python 3",
   "language": "python",
   "name": "python3"
  },
  "language_info": {
   "codemirror_mode": {
    "name": "ipython",
    "version": 3
   },
   "file_extension": ".py",
   "mimetype": "text/x-python",
   "name": "python",
   "nbconvert_exporter": "python",
   "pygments_lexer": "ipython3",
   "version": "3.6.8"
  },
  "deepnote_notebook_id": "b70bc240-a854-43f9-ac46-a4fab2cce517",
  "deepnote": {},
  "deepnote_execution_queue": []
 }
}