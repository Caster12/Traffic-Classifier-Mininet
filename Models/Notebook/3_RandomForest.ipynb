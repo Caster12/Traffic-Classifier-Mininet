{
 "cells": [
  {
   "cell_type": "code",
   "metadata": {
    "tags": [],
    "deepnote_to_be_reexecuted": false,
    "source_hash": "4c5a392a",
    "execution_start": 1639606945348,
    "execution_millis": 18791,
    "cell_id": "00000-2971ccce-65ca-47c9-bf6c-7df4ea3b7176",
    "deepnote_cell_type": "code"
   },
   "source": "!pip install numpy\n!pip install pandas\n!pip install matplotlib\n!pip install seaborn\n!pip install sklearn",
   "outputs": [
    {
     "name": "stdout",
     "text": "Requirement already satisfied: numpy in /shared-libs/python3.7/py/lib/python3.7/site-packages (1.19.5)\n\u001b[33mWARNING: You are using pip version 20.1.1; however, version 21.3.1 is available.\nYou should consider upgrading via the '/root/venv/bin/python -m pip install --upgrade pip' command.\u001b[0m\nRequirement already satisfied: pandas in /shared-libs/python3.7/py/lib/python3.7/site-packages (1.2.5)\nRequirement already satisfied: python-dateutil>=2.7.3 in /shared-libs/python3.7/py-core/lib/python3.7/site-packages (from pandas) (2.8.2)\nRequirement already satisfied: pytz>=2017.3 in /shared-libs/python3.7/py/lib/python3.7/site-packages (from pandas) (2021.3)\nRequirement already satisfied: numpy>=1.16.5 in /shared-libs/python3.7/py/lib/python3.7/site-packages (from pandas) (1.19.5)\nRequirement already satisfied: six>=1.5 in /shared-libs/python3.7/py-core/lib/python3.7/site-packages (from python-dateutil>=2.7.3->pandas) (1.16.0)\n\u001b[33mWARNING: You are using pip version 20.1.1; however, version 21.3.1 is available.\nYou should consider upgrading via the '/root/venv/bin/python -m pip install --upgrade pip' command.\u001b[0m\nRequirement already satisfied: matplotlib in /shared-libs/python3.7/py/lib/python3.7/site-packages (3.5.1)\nRequirement already satisfied: cycler>=0.10 in /shared-libs/python3.7/py/lib/python3.7/site-packages (from matplotlib) (0.11.0)\nRequirement already satisfied: python-dateutil>=2.7 in /shared-libs/python3.7/py-core/lib/python3.7/site-packages (from matplotlib) (2.8.2)\nRequirement already satisfied: kiwisolver>=1.0.1 in /shared-libs/python3.7/py/lib/python3.7/site-packages (from matplotlib) (1.3.2)\nRequirement already satisfied: pyparsing>=2.2.1 in /shared-libs/python3.7/py-core/lib/python3.7/site-packages (from matplotlib) (3.0.6)\nRequirement already satisfied: fonttools>=4.22.0 in /shared-libs/python3.7/py/lib/python3.7/site-packages (from matplotlib) (4.28.3)\nRequirement already satisfied: pillow>=6.2.0 in /shared-libs/python3.7/py/lib/python3.7/site-packages (from matplotlib) (8.4.0)\nRequirement already satisfied: packaging>=20.0 in /shared-libs/python3.7/py-core/lib/python3.7/site-packages (from matplotlib) (21.3)\nRequirement already satisfied: numpy>=1.17 in /shared-libs/python3.7/py/lib/python3.7/site-packages (from matplotlib) (1.19.5)\nRequirement already satisfied: six>=1.5 in /shared-libs/python3.7/py-core/lib/python3.7/site-packages (from python-dateutil>=2.7->matplotlib) (1.16.0)\n\u001b[33mWARNING: You are using pip version 20.1.1; however, version 21.3.1 is available.\nYou should consider upgrading via the '/root/venv/bin/python -m pip install --upgrade pip' command.\u001b[0m\nRequirement already satisfied: seaborn in /shared-libs/python3.7/py/lib/python3.7/site-packages (0.11.2)\nRequirement already satisfied: matplotlib>=2.2 in /shared-libs/python3.7/py/lib/python3.7/site-packages (from seaborn) (3.5.1)\nRequirement already satisfied: scipy>=1.0 in /shared-libs/python3.7/py/lib/python3.7/site-packages (from seaborn) (1.7.3)\nRequirement already satisfied: numpy>=1.15 in /shared-libs/python3.7/py/lib/python3.7/site-packages (from seaborn) (1.19.5)\nRequirement already satisfied: pandas>=0.23 in /shared-libs/python3.7/py/lib/python3.7/site-packages (from seaborn) (1.2.5)\nRequirement already satisfied: fonttools>=4.22.0 in /shared-libs/python3.7/py/lib/python3.7/site-packages (from matplotlib>=2.2->seaborn) (4.28.3)\nRequirement already satisfied: pillow>=6.2.0 in /shared-libs/python3.7/py/lib/python3.7/site-packages (from matplotlib>=2.2->seaborn) (8.4.0)\nRequirement already satisfied: python-dateutil>=2.7 in /shared-libs/python3.7/py-core/lib/python3.7/site-packages (from matplotlib>=2.2->seaborn) (2.8.2)\nRequirement already satisfied: packaging>=20.0 in /shared-libs/python3.7/py-core/lib/python3.7/site-packages (from matplotlib>=2.2->seaborn) (21.3)\nRequirement already satisfied: cycler>=0.10 in /shared-libs/python3.7/py/lib/python3.7/site-packages (from matplotlib>=2.2->seaborn) (0.11.0)\nRequirement already satisfied: pyparsing>=2.2.1 in /shared-libs/python3.7/py-core/lib/python3.7/site-packages (from matplotlib>=2.2->seaborn) (3.0.6)\nRequirement already satisfied: kiwisolver>=1.0.1 in /shared-libs/python3.7/py/lib/python3.7/site-packages (from matplotlib>=2.2->seaborn) (1.3.2)\nRequirement already satisfied: pytz>=2017.3 in /shared-libs/python3.7/py/lib/python3.7/site-packages (from pandas>=0.23->seaborn) (2021.3)\nRequirement already satisfied: six>=1.5 in /shared-libs/python3.7/py-core/lib/python3.7/site-packages (from python-dateutil>=2.7->matplotlib>=2.2->seaborn) (1.16.0)\n\u001b[33mWARNING: You are using pip version 20.1.1; however, version 21.3.1 is available.\nYou should consider upgrading via the '/root/venv/bin/python -m pip install --upgrade pip' command.\u001b[0m\nRequirement already satisfied: sklearn in /root/venv/lib/python3.7/site-packages (0.0)\nRequirement already satisfied: scikit-learn in /shared-libs/python3.7/py/lib/python3.7/site-packages (from sklearn) (1.0.1)\nRequirement already satisfied: threadpoolctl>=2.0.0 in /shared-libs/python3.7/py/lib/python3.7/site-packages (from scikit-learn->sklearn) (3.0.0)\nRequirement already satisfied: scipy>=1.1.0 in /shared-libs/python3.7/py/lib/python3.7/site-packages (from scikit-learn->sklearn) (1.7.3)\nRequirement already satisfied: numpy>=1.14.6 in /shared-libs/python3.7/py/lib/python3.7/site-packages (from scikit-learn->sklearn) (1.19.5)\nRequirement already satisfied: joblib>=0.11 in /shared-libs/python3.7/py/lib/python3.7/site-packages (from scikit-learn->sklearn) (1.1.0)\n\u001b[33mWARNING: You are using pip version 20.1.1; however, version 21.3.1 is available.\nYou should consider upgrading via the '/root/venv/bin/python -m pip install --upgrade pip' command.\u001b[0m\n",
     "output_type": "stream",
     "data": {}
    }
   ],
   "execution_count": null
  },
  {
   "cell_type": "code",
   "metadata": {
    "tags": [],
    "deepnote_to_be_reexecuted": false,
    "source_hash": "ffa559f2",
    "execution_start": 1639606964150,
    "execution_millis": 2098,
    "cell_id": "00001-35082e2d-f8c4-46c4-944e-3ff44149415a",
    "deepnote_cell_type": "code"
   },
   "source": "import numpy as np\nimport pandas as pd\nfrom scipy import stats\nimport pickle\n\n# Plotting libraries\nimport seaborn as sns\nimport matplotlib.pyplot as plt\n\n# Sklearn libraries\nfrom sklearn.preprocessing import StandardScaler\nfrom sklearn.preprocessing import label_binarize\nfrom sklearn.model_selection import train_test_split\nfrom sklearn.decomposition import PCA\nfrom sklearn.linear_model import LogisticRegression\nfrom sklearn.ensemble import RandomForestClassifier\nfrom sklearn.cluster import DBSCAN, KMeans\nfrom sklearn.metrics import accuracy_score, classification_report, confusion_matrix\n\n# Filter warnings\nwarnings.filterwarnings('ignore') #filter warnings\n# Show plots inline\n%matplotlib inline",
   "outputs": [],
   "execution_count": null
  },
  {
   "cell_type": "code",
   "metadata": {
    "tags": [],
    "deepnote_to_be_reexecuted": false,
    "source_hash": "fd3de315",
    "execution_start": 1639606966260,
    "execution_millis": 66,
    "cell_id": "00002-eb95a016-bccd-49b1-b7ea-2b44786a9fc3",
    "deepnote_cell_type": "code"
   },
   "source": "ping_df = pd.read_csv('/work/Data/2_ping_training_data.csv', delimiter='\\t')\nvoice_df  = pd.read_csv('/work/Data/4_voice_training_data.csv', delimiter='\\t')\ndns_df = pd.read_csv('/work/Data/1_dns_training_data.csv', delimiter='\\t')\ntelnet_df = pd.read_csv('/work/Data/3_telnet_training_data.csv', delimiter='\\t')\ngame_df = pd.read_csv('/work/Data/5_game_training_data.csv')\nquake_df = pd.read_csv('/work/Data/6_quake_training_data.csv', delimiter='\\t')\ndf = pd.concat([ping_df, voice_df, dns_df, telnet_df,game_df, quake_df], ignore_index=True)",
   "outputs": [],
   "execution_count": null
  },
  {
   "cell_type": "code",
   "metadata": {
    "tags": [],
    "deepnote_to_be_reexecuted": false,
    "source_hash": "1bd18b6b",
    "execution_start": 1639606966338,
    "execution_millis": 21,
    "cell_id": "00003-72c45de2-5df3-43f5-91c3-d70b5eecd694",
    "deepnote_cell_type": "code"
   },
   "source": "df.dropna(inplace=True)",
   "outputs": [],
   "execution_count": null
  },
  {
   "cell_type": "code",
   "metadata": {
    "tags": [],
    "deepnote_to_be_reexecuted": false,
    "source_hash": "2a4c602c",
    "execution_start": 1639606966375,
    "execution_millis": 5,
    "cell_id": "00004-94d990a0-34fb-4c3b-80b4-84f754c8878c",
    "deepnote_cell_type": "code"
   },
   "source": "df.drop('Forward Packets', axis=1, inplace=True)\ndf.drop('Forward Bytes', axis=1, inplace=True)\ndf.drop('Reverse Packets', axis=1, inplace=True)\ndf.drop('Reverse Bytes', axis=1, inplace=True)",
   "outputs": [],
   "execution_count": null
  },
  {
   "cell_type": "code",
   "metadata": {
    "tags": [],
    "deepnote_to_be_reexecuted": false,
    "source_hash": "e4a54c0",
    "execution_start": 1639606966390,
    "execution_millis": 59564,
    "cell_id": "00005-4a6fafc1-c15a-40d3-a93f-038e512d2800",
    "deepnote_cell_type": "code"
   },
   "source": "df['Traffic Type'] = df['Traffic Type'].astype('category')",
   "outputs": [],
   "execution_count": null
  },
  {
   "cell_type": "code",
   "metadata": {
    "tags": [],
    "deepnote_to_be_reexecuted": false,
    "source_hash": "8d852353",
    "execution_start": 1639606966428,
    "execution_millis": 59558,
    "deepnote_output_heights": [
     117.1875
    ],
    "cell_id": "00006-2e384113-37b5-42ff-91b2-fdd3ca2eddae",
    "deepnote_cell_type": "code"
   },
   "source": "df['Traffic Type'].cat.codes.head()",
   "outputs": [
    {
     "output_type": "execute_result",
     "execution_count": 7,
     "data": {
      "text/plain": "0    2\n1    2\n2    2\n3    2\n4    2\ndtype: int8"
     },
     "metadata": {}
    }
   ],
   "execution_count": null
  },
  {
   "cell_type": "code",
   "metadata": {
    "tags": [],
    "deepnote_to_be_reexecuted": false,
    "source_hash": "3356d47d",
    "execution_start": 1639606966429,
    "execution_millis": 4,
    "cell_id": "00007-dff632ee-e1d5-4090-be0f-220ceda15154",
    "deepnote_cell_type": "code"
   },
   "source": "print('Features:',df.columns[:-1].values)",
   "outputs": [
    {
     "name": "stdout",
     "text": "Features: ['Delta Forward Packets' 'Delta Forward Bytes'\n 'Forward Instantaneous Packets per Second'\n 'Forward Average Packets per second'\n 'Forward Instantaneous Bytes per Second'\n 'Forward Average Bytes per second' 'Delta Reverse Packets'\n 'Delta Reverse Bytes' 'DeltaReverse Instantaneous Packets per Second'\n 'Reverse Average Packets per second'\n 'Reverse Instantaneous Bytes per Second'\n 'Reverse Average Bytes per second']\n",
     "output_type": "stream",
     "data": {}
    }
   ],
   "execution_count": null
  },
  {
   "cell_type": "code",
   "metadata": {
    "tags": [],
    "deepnote_to_be_reexecuted": false,
    "source_hash": "cba2f66e",
    "execution_start": 1639606966429,
    "execution_millis": 6,
    "deepnote_output_heights": [
     null,
     136.375
    ],
    "cell_id": "00008-2a2900b5-498e-4ab3-9a8f-77a93d84c935",
    "deepnote_cell_type": "code"
   },
   "source": "print ('Value counts:')\ndf['Traffic Type'].value_counts()",
   "outputs": [
    {
     "name": "stdout",
     "text": "Value counts:\n",
     "output_type": "stream",
     "data": {}
    },
    {
     "output_type": "execute_result",
     "execution_count": 9,
     "data": {
      "text/plain": "game      2411\nping      1770\nquake     1244\ntelnet    1181\ndns       1154\nvoice     1137\nName: Traffic Type, dtype: int64"
     },
     "metadata": {}
    }
   ],
   "execution_count": null
  },
  {
   "cell_type": "code",
   "metadata": {
    "tags": [],
    "deepnote_to_be_reexecuted": false,
    "source_hash": "35c227cb",
    "execution_start": 1639606966482,
    "execution_millis": 278,
    "cell_id": "00009-fcf8a901-83f1-43bb-9b8d-2b11d6f0045d",
    "deepnote_cell_type": "code"
   },
   "source": "X = df.drop('Traffic Type',axis=1)\ny = df['Traffic Type']",
   "outputs": [],
   "execution_count": null
  },
  {
   "cell_type": "code",
   "metadata": {
    "tags": [],
    "deepnote_to_be_reexecuted": false,
    "source_hash": "d9bc3235",
    "execution_start": 1639606966483,
    "execution_millis": 0,
    "cell_id": "00010-1eb446f9-772d-4cdd-b585-abfa5ad232e8",
    "deepnote_cell_type": "code"
   },
   "source": "X_train, X_test, y_train, y_test = train_test_split(X,y,test_size=0.5, random_state=101)",
   "outputs": [],
   "execution_count": null
  },
  {
   "cell_type": "code",
   "metadata": {
    "tags": [],
    "deepnote_to_be_reexecuted": false,
    "source_hash": "287cd305",
    "execution_start": 1639606966484,
    "execution_millis": 1,
    "cell_id": "00012-d98d8d1a-e876-40e0-ab59-d718523f0efe",
    "deepnote_cell_type": "code"
   },
   "source": "model = RandomForestClassifier()",
   "outputs": [],
   "execution_count": null
  },
  {
   "cell_type": "code",
   "metadata": {
    "tags": [],
    "deepnote_to_be_reexecuted": false,
    "source_hash": "6982db56",
    "execution_start": 1639606966485,
    "execution_millis": 517,
    "deepnote_output_heights": [
     21.1875
    ],
    "cell_id": "00013-bae2f413-4c08-41dd-93de-1ec04ffa7542",
    "deepnote_cell_type": "code"
   },
   "source": "model.fit(X_train,y_train)",
   "outputs": [
    {
     "output_type": "execute_result",
     "execution_count": 13,
     "data": {
      "text/plain": "RandomForestClassifier()"
     },
     "metadata": {}
    }
   ],
   "execution_count": null
  },
  {
   "cell_type": "code",
   "metadata": {
    "tags": [],
    "deepnote_to_be_reexecuted": false,
    "source_hash": "840e712c",
    "execution_start": 1639606967053,
    "execution_millis": 1,
    "cell_id": "00014-bd2ce125-49a6-4bac-a945-4a7ddae7cce0",
    "deepnote_cell_type": "code"
   },
   "source": "idx = 2590 #random number\nsingle_x_test = [df.iloc[idx].drop('Traffic Type').tolist()]\nsingle_y_test = df.iloc[idx]['Traffic Type']",
   "outputs": [],
   "execution_count": null
  },
  {
   "cell_type": "code",
   "metadata": {
    "tags": [],
    "deepnote_to_be_reexecuted": false,
    "source_hash": "36dd35ef",
    "execution_start": 1639606967054,
    "execution_millis": 2,
    "cell_id": "00015-40dc4c2b-b97f-42e5-9fd8-4fa1421511d9",
    "deepnote_cell_type": "code"
   },
   "source": "single_prediction = model.predict(single_x_test)\nprint('For this sample, our model predicted %s and it was actually %s' % (single_prediction[0], single_y_test))",
   "outputs": [
    {
     "name": "stdout",
     "text": "For this sample, our model predicted voice and it was actually voice\n",
     "output_type": "stream",
     "data": {}
    }
   ],
   "execution_count": null
  },
  {
   "cell_type": "code",
   "metadata": {
    "tags": [],
    "deepnote_to_be_reexecuted": false,
    "source_hash": "1a1f61ae",
    "execution_start": 1639606967102,
    "execution_millis": 18,
    "cell_id": "00016-ec062fdd-c9a3-4955-a1c2-dfa34ee952b7",
    "deepnote_cell_type": "code"
   },
   "source": "predictions = model.predict(X_test)",
   "outputs": [],
   "execution_count": null
  },
  {
   "cell_type": "code",
   "metadata": {
    "tags": [],
    "deepnote_to_be_reexecuted": false,
    "source_hash": "8e70f9aa",
    "execution_start": 1639606967194,
    "execution_millis": 3,
    "cell_id": "00017-7452ffab-0c29-4103-9d76-e69b8e269f70",
    "deepnote_cell_type": "code"
   },
   "source": "resultsDF = pd.DataFrame({\n        'true':y_test,\n        'predicted':predictions\n    })\nresultsDF.head()",
   "outputs": [
    {
     "output_type": "execute_result",
     "execution_count": 17,
     "data": {
      "application/vnd.deepnote.dataframe.v3+json": {
       "column_count": 2,
       "row_count": 5,
       "columns": [
        {
         "name": "true",
         "dtype": "category",
         "stats": {
          "unique_count": 4,
          "nan_count": 0,
          "categories": [
           {
            "name": "quake",
            "count": 2
           },
           {
            "name": "ping",
            "count": 1
           },
           {
            "name": "2 others",
            "count": 2
           }
          ]
         }
        },
        {
         "name": "predicted",
         "dtype": "object",
         "stats": {
          "unique_count": 4,
          "nan_count": 0,
          "categories": [
           {
            "name": "quake",
            "count": 2
           },
           {
            "name": "ping",
            "count": 1
           },
           {
            "name": "2 others",
            "count": 2
           }
          ]
         }
        },
        {
         "name": "_deepnote_index_column",
         "dtype": "int64"
        }
       ],
       "rows": [
        {
         "true": "ping",
         "predicted": "ping",
         "_deepnote_index_column": 1622
        },
        {
         "true": "game",
         "predicted": "game",
         "_deepnote_index_column": 5273
        },
        {
         "true": "quake",
         "predicted": "quake",
         "_deepnote_index_column": 8176
        },
        {
         "true": "telnet",
         "predicted": "telnet",
         "_deepnote_index_column": 4631
        },
        {
         "true": "quake",
         "predicted": "quake",
         "_deepnote_index_column": 7807
        }
       ]
      },
      "text/plain": "        true predicted\n1622    ping      ping\n5273    game      game\n8176   quake     quake\n4631  telnet    telnet\n7807   quake     quake",
      "text/html": "<div>\n<style scoped>\n    .dataframe tbody tr th:only-of-type {\n        vertical-align: middle;\n    }\n\n    .dataframe tbody tr th {\n        vertical-align: top;\n    }\n\n    .dataframe thead th {\n        text-align: right;\n    }\n</style>\n<table border=\"1\" class=\"dataframe\">\n  <thead>\n    <tr style=\"text-align: right;\">\n      <th></th>\n      <th>true</th>\n      <th>predicted</th>\n    </tr>\n  </thead>\n  <tbody>\n    <tr>\n      <th>1622</th>\n      <td>ping</td>\n      <td>ping</td>\n    </tr>\n    <tr>\n      <th>5273</th>\n      <td>game</td>\n      <td>game</td>\n    </tr>\n    <tr>\n      <th>8176</th>\n      <td>quake</td>\n      <td>quake</td>\n    </tr>\n    <tr>\n      <th>4631</th>\n      <td>telnet</td>\n      <td>telnet</td>\n    </tr>\n    <tr>\n      <th>7807</th>\n      <td>quake</td>\n      <td>quake</td>\n    </tr>\n  </tbody>\n</table>\n</div>"
     },
     "metadata": {}
    }
   ],
   "execution_count": null
  },
  {
   "cell_type": "code",
   "metadata": {
    "tags": [],
    "deepnote_to_be_reexecuted": false,
    "source_hash": "1ebc13aa",
    "execution_start": 1639606967195,
    "execution_millis": 2,
    "cell_id": "00018-23447d8f-1056-4722-b798-675c7a46250d",
    "deepnote_cell_type": "code"
   },
   "source": "print('Accuracy: %.2f%%' % (accuracy_score(predictions,y_test)*100))",
   "outputs": [
    {
     "name": "stdout",
     "text": "Accuracy: 99.87%\n",
     "output_type": "stream",
     "data": {}
    }
   ],
   "execution_count": null
  },
  {
   "cell_type": "code",
   "metadata": {
    "tags": [],
    "deepnote_to_be_reexecuted": false,
    "source_hash": "62303876",
    "execution_start": 1639606967200,
    "execution_millis": 6,
    "cell_id": "00019-db9dc318-9b73-4be7-953a-4660c67d8139",
    "deepnote_cell_type": "code"
   },
   "source": "print(pickle.format_version)",
   "outputs": [
    {
     "name": "stdout",
     "text": "4.0\n",
     "output_type": "stream",
     "data": {}
    }
   ],
   "execution_count": null
  },
  {
   "cell_type": "code",
   "metadata": {
    "tags": [],
    "deepnote_to_be_reexecuted": false,
    "source_hash": "fa22b152",
    "execution_start": 1639606967255,
    "execution_millis": 1,
    "cell_id": "00020-879ff132-8a17-4477-b220-a5733fb0c239",
    "deepnote_cell_type": "code"
   },
   "source": "pickle.dump(model,open('Models/RandomForestClassifier','wb'))",
   "outputs": [],
   "execution_count": null
  },
  {
   "cell_type": "markdown",
   "source": "<a style='text-decoration:none;line-height:16px;display:flex;color:#5B5B62;padding:10px;justify-content:end;' href='https://deepnote.com?utm_source=created-in-deepnote-cell&projectId=0c140320-dfb6-438f-affb-c603f973d8fc' target=\"_blank\">\n<img alt='Created in deepnote.com' style='display:inline;max-height:16px;margin:0px;margin-right:7.5px;' src='data:image/svg+xml;base64,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' > </img>\nCreated in <span style='font-weight:600;margin-left:4px;'>Deepnote</span></a>",
   "metadata": {
    "tags": [],
    "created_in_deepnote_cell": true,
    "deepnote_cell_type": "markdown"
   }
  }
 ],
 "nbformat": 4,
 "nbformat_minor": 2,
 "metadata": {
  "orig_nbformat": 2,
  "deepnote": {
   "is_reactive": false
  },
  "deepnote_notebook_id": "dde379a5-7bf2-4644-b73f-c4c26186dfe4",
  "deepnote_execution_queue": []
 }
}